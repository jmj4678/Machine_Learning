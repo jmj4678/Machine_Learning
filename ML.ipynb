{
  "nbformat": 4,
  "nbformat_minor": 0,
  "metadata": {
    "colab": {
      "name": "ML",
      "provenance": [],
      "collapsed_sections": [
        "YvY-y9Zc_dSy",
        "shah8nfn_nZf",
        "_2R8Hhb3_uAA",
        "CvH-a8GmNDSh",
        "5rE1_zjjSut2",
        "8Wgg-Qa9fAbb",
        "CuJCuYIgvKLq",
        "lrniykg61PiA"
      ],
      "toc_visible": true
    },
    "kernelspec": {
      "name": "python3",
      "display_name": "Python 3"
    }
  },
  "cells": [
    {
      "cell_type": "code",
      "metadata": {
        "id": "izdStfj6y8Rl"
      },
      "source": [
        "# ALWAYS CHECK FOR ASSUMPTIONS EACH METHOD MAKES!!!\r\n",
        "\r\n",
        "import numpy as np\r\n",
        "import pandas as pd\r\n",
        "import matplotlib.pyplot as plt\r\n",
        "import sklearn\r\n",
        "import seaborn as sns\r\n",
        "from collections import Counter\r\n",
        "\r\n",
        "from pylab import rcParams\r\n",
        "\r\n",
        "from sklearn.linear_model import LinearRegression\r\n",
        "from sklearn.preprocessing import scale"
      ],
      "execution_count": 1,
      "outputs": []
    },
    {
      "cell_type": "code",
      "metadata": {
        "id": "j3LWZISIzM3t"
      },
      "source": [
        "%matplotlib inline\r\n",
        "rcParams['figure.figsize'] = 10,8"
      ],
      "execution_count": 2,
      "outputs": []
    },
    {
      "cell_type": "markdown",
      "metadata": {
        "id": "YvY-y9Zc_dSy"
      },
      "source": [
        "## SIMPLE LINEAR REGRESSION"
      ]
    },
    {
      "cell_type": "code",
      "metadata": {
        "colab": {
          "base_uri": "https://localhost:8080/"
        },
        "id": "QRP_tAbPzMzw",
        "outputId": "b1e97cd2-2d5c-4f47-b791-e12d3a6681ff"
      },
      "source": [
        "rooms = 2*np.random.rand(100,1)+3\r\n",
        "rooms[1:10]"
      ],
      "execution_count": 3,
      "outputs": [
        {
          "output_type": "execute_result",
          "data": {
            "text/plain": [
              "array([[3.64559525],\n",
              "       [4.5970134 ],\n",
              "       [3.35903016],\n",
              "       [4.53288077],\n",
              "       [4.05902963],\n",
              "       [3.25461599],\n",
              "       [3.32970102],\n",
              "       [3.6105658 ],\n",
              "       [4.47363859]])"
            ]
          },
          "metadata": {
            "tags": []
          },
          "execution_count": 3
        }
      ]
    },
    {
      "cell_type": "code",
      "metadata": {
        "colab": {
          "base_uri": "https://localhost:8080/"
        },
        "id": "3RPVLLpKzMw4",
        "outputId": "89f5f773-197b-4466-f15f-ecdf0195c400"
      },
      "source": [
        "price = 265 + 6*rooms + abs(np.random.randn(100,1))\r\n",
        "price[1:10]"
      ],
      "execution_count": 4,
      "outputs": [
        {
          "output_type": "execute_result",
          "data": {
            "text/plain": [
              "array([[288.57134172],\n",
              "       [293.32605193],\n",
              "       [285.28760579],\n",
              "       [294.2509747 ],\n",
              "       [290.01916981],\n",
              "       [286.49644656],\n",
              "       [285.18067392],\n",
              "       [287.35397494],\n",
              "       [292.60333404]])"
            ]
          },
          "metadata": {
            "tags": []
          },
          "execution_count": 4
        }
      ]
    },
    {
      "cell_type": "code",
      "metadata": {
        "colab": {
          "base_uri": "https://localhost:8080/",
          "height": 0
        },
        "id": "E_ugs2pyzMuP",
        "outputId": "c0b0b797-2173-4eba-b47f-9d1a6a61a0aa"
      },
      "source": [
        "plt.plot(rooms,price, 'r^')\r\n",
        "plt.xlabel(\"# of Rooms, 2019 Average\")\r\n",
        "plt.ylabel('2019 Average Home, 1000s USD')\r\n",
        "plt.show()"
      ],
      "execution_count": 5,
      "outputs": [
        {
          "output_type": "display_data",
          "data": {
            "image/png": "[encoded data removed]",
            "text/plain": [
              "<Figure size 720x576 with 1 Axes>"
            ]
          },
          "metadata": {
            "tags": [],
            "needs_background": "light"
          }
        }
      ]
    },
    {
      "cell_type": "code",
      "metadata": {
        "colab": {
          "base_uri": "https://localhost:8080/"
        },
        "id": "WprIzzIPzMiQ",
        "outputId": "dabb0a37-eef0-4d06-c88e-0d9086c8a180"
      },
      "source": [
        "x = rooms\r\n",
        "y = price\r\n",
        "\r\n",
        "\r\n",
        "LinReg = LinearRegression()         #Regression Object\r\n",
        "LinReg.fit(x,y)\r\n",
        "print(LinReg.intercept_, LinReg.coef_)"
      ],
      "execution_count": 6,
      "outputs": [
        {
          "output_type": "stream",
          "text": [
            "[265.94019123] [[5.94679239]]\n"
          ],
          "name": "stdout"
        }
      ]
    },
    {
      "cell_type": "code",
      "metadata": {
        "colab": {
          "base_uri": "https://localhost:8080/"
        },
        "id": "eAmyYjnS1NJQ",
        "outputId": "f167e582-d3d9-49c9-9a49-f7db9da4a3be"
      },
      "source": [
        "print(LinReg.score(x,y))    #R-squared"
      ],
      "execution_count": 7,
      "outputs": [
        {
          "output_type": "stream",
          "text": [
            "0.9749920046206455\n"
          ],
          "name": "stdout"
        }
      ]
    },
    {
      "cell_type": "markdown",
      "metadata": {
        "id": "shah8nfn_nZf"
      },
      "source": [
        "## MULTIPLE REGRESSION"
      ]
    },
    {
      "cell_type": "code",
      "metadata": {
        "colab": {
          "base_uri": "https://localhost:8080/",
          "height": 0
        },
        "id": "lZWUxLTF1Zuw",
        "outputId": "5d88d1a1-ed7b-450a-c1c9-dbc60847fed0"
      },
      "source": [
        "address = '/content/sample_data/enrollment_forecast.csv'\r\n",
        "\r\n",
        "enroll = pd.read_csv(address)\r\n",
        "enroll.columns = ['year', 'enroll', 'unemploy', 'gradrate', 'income']\r\n",
        "enroll.head()"
      ],
      "execution_count": 8,
      "outputs": [
        {
          "output_type": "execute_result",
          "data": {
            "text/html": [
              "<div>\n",
              "<style scoped>\n",
              "    .dataframe tbody tr th:only-of-type {\n",
              "        vertical-align: middle;\n",
              "    }\n",
              "\n",
              "    .dataframe tbody tr th {\n",
              "        vertical-align: top;\n",
              "    }\n",
              "\n",
              "    .dataframe thead th {\n",
              "        text-align: right;\n",
              "    }\n",
              "</style>\n",
              "<table border=\"1\" class=\"dataframe\">\n",
              "  <thead>\n",
              "    <tr style=\"text-align: right;\">\n",
              "      <th></th>\n",
              "      <th>year</th>\n",
              "      <th>enroll</th>\n",
              "      <th>unemploy</th>\n",
              "      <th>gradrate</th>\n",
              "      <th>income</th>\n",
              "    </tr>\n",
              "  </thead>\n",
              "  <tbody>\n",
              "    <tr>\n",
              "      <th>0</th>\n",
              "      <td>1</td>\n",
              "      <td>5501</td>\n",
              "      <td>8.1</td>\n",
              "      <td>9552</td>\n",
              "      <td>1923</td>\n",
              "    </tr>\n",
              "    <tr>\n",
              "      <th>1</th>\n",
              "      <td>2</td>\n",
              "      <td>5945</td>\n",
              "      <td>7.0</td>\n",
              "      <td>9680</td>\n",
              "      <td>1961</td>\n",
              "    </tr>\n",
              "    <tr>\n",
              "      <th>2</th>\n",
              "      <td>3</td>\n",
              "      <td>6629</td>\n",
              "      <td>7.3</td>\n",
              "      <td>9731</td>\n",
              "      <td>1979</td>\n",
              "    </tr>\n",
              "    <tr>\n",
              "      <th>3</th>\n",
              "      <td>4</td>\n",
              "      <td>7556</td>\n",
              "      <td>7.5</td>\n",
              "      <td>11666</td>\n",
              "      <td>2030</td>\n",
              "    </tr>\n",
              "    <tr>\n",
              "      <th>4</th>\n",
              "      <td>5</td>\n",
              "      <td>8716</td>\n",
              "      <td>7.0</td>\n",
              "      <td>14675</td>\n",
              "      <td>2112</td>\n",
              "    </tr>\n",
              "  </tbody>\n",
              "</table>\n",
              "</div>"
            ],
            "text/plain": [
              "   year  enroll  unemploy  gradrate  income\n",
              "0     1    5501       8.1      9552    1923\n",
              "1     2    5945       7.0      9680    1961\n",
              "2     3    6629       7.3      9731    1979\n",
              "3     4    7556       7.5     11666    2030\n",
              "4     5    8716       7.0     14675    2112"
            ]
          },
          "metadata": {
            "tags": []
          },
          "execution_count": 8
        }
      ]
    },
    {
      "cell_type": "code",
      "metadata": {
        "colab": {
          "base_uri": "https://localhost:8080/",
          "height": 0
        },
        "id": "54bPtYyb1oXi",
        "outputId": "d3bacd82-5de3-4787-fa74-627b986064d0"
      },
      "source": [
        "sns.pairplot(enroll)"
      ],
      "execution_count": 9,
      "outputs": [
        {
          "output_type": "execute_result",
          "data": {
            "text/plain": [
              "<seaborn.axisgrid.PairGrid at 0x7ff3449f6c90>"
            ]
          },
          "metadata": {
            "tags": []
          },
          "execution_count": 9
        },
        {
          "output_type": "display_data",
          "data": {
            "image/png": "[encoded data removed]",
            "text/plain": [
              "<Figure size 900x900 with 30 Axes>"
            ]
          },
          "metadata": {
            "tags": [],
            "needs_background": "light"
          }
        }
      ]
    },
    {
      "cell_type": "code",
      "metadata": {
        "colab": {
          "base_uri": "https://localhost:8080/",
          "height": 0
        },
        "id": "gbS60lV71oTA",
        "outputId": "fdc4f71a-d5b0-4b72-af5f-387ed1ad7850"
      },
      "source": [
        "enroll.corr()   #Checking for multicollinearity"
      ],
      "execution_count": 10,
      "outputs": [
        {
          "output_type": "execute_result",
          "data": {
            "text/html": [
              "<div>\n",
              "<style scoped>\n",
              "    .dataframe tbody tr th:only-of-type {\n",
              "        vertical-align: middle;\n",
              "    }\n",
              "\n",
              "    .dataframe tbody tr th {\n",
              "        vertical-align: top;\n",
              "    }\n",
              "\n",
              "    .dataframe thead th {\n",
              "        text-align: right;\n",
              "    }\n",
              "</style>\n",
              "<table border=\"1\" class=\"dataframe\">\n",
              "  <thead>\n",
              "    <tr style=\"text-align: right;\">\n",
              "      <th></th>\n",
              "      <th>year</th>\n",
              "      <th>enroll</th>\n",
              "      <th>unemploy</th>\n",
              "      <th>gradrate</th>\n",
              "      <th>income</th>\n",
              "    </tr>\n",
              "  </thead>\n",
              "  <tbody>\n",
              "    <tr>\n",
              "      <th>year</th>\n",
              "      <td>1.000000</td>\n",
              "      <td>0.900934</td>\n",
              "      <td>0.378305</td>\n",
              "      <td>0.670300</td>\n",
              "      <td>0.944287</td>\n",
              "    </tr>\n",
              "    <tr>\n",
              "      <th>enroll</th>\n",
              "      <td>0.900934</td>\n",
              "      <td>1.000000</td>\n",
              "      <td>0.391344</td>\n",
              "      <td>0.890294</td>\n",
              "      <td>0.949876</td>\n",
              "    </tr>\n",
              "    <tr>\n",
              "      <th>unemploy</th>\n",
              "      <td>0.378305</td>\n",
              "      <td>0.391344</td>\n",
              "      <td>1.000000</td>\n",
              "      <td>0.177376</td>\n",
              "      <td>0.282310</td>\n",
              "    </tr>\n",
              "    <tr>\n",
              "      <th>gradrate</th>\n",
              "      <td>0.670300</td>\n",
              "      <td>0.890294</td>\n",
              "      <td>0.177376</td>\n",
              "      <td>1.000000</td>\n",
              "      <td>0.820089</td>\n",
              "    </tr>\n",
              "    <tr>\n",
              "      <th>income</th>\n",
              "      <td>0.944287</td>\n",
              "      <td>0.949876</td>\n",
              "      <td>0.282310</td>\n",
              "      <td>0.820089</td>\n",
              "      <td>1.000000</td>\n",
              "    </tr>\n",
              "  </tbody>\n",
              "</table>\n",
              "</div>"
            ],
            "text/plain": [
              "              year    enroll  unemploy  gradrate    income\n",
              "year      1.000000  0.900934  0.378305  0.670300  0.944287\n",
              "enroll    0.900934  1.000000  0.391344  0.890294  0.949876\n",
              "unemploy  0.378305  0.391344  1.000000  0.177376  0.282310\n",
              "gradrate  0.670300  0.890294  0.177376  1.000000  0.820089\n",
              "income    0.944287  0.949876  0.282310  0.820089  1.000000"
            ]
          },
          "metadata": {
            "tags": []
          },
          "execution_count": 10
        }
      ]
    },
    {
      "cell_type": "code",
      "metadata": {
        "id": "heo2fULE1oQj"
      },
      "source": [
        "enroll_data = enroll[['unemploy', 'gradrate']].values\r\n",
        "\r\n",
        "enroll_target = enroll['enroll'].values\r\n",
        "\r\n",
        "enroll_data_names = ['unemploy', 'gradrate']\r\n",
        "\r\n",
        "x, y = scale(enroll_data), enroll_target"
      ],
      "execution_count": 11,
      "outputs": []
    },
    {
      "cell_type": "code",
      "metadata": {
        "colab": {
          "base_uri": "https://localhost:8080/"
        },
        "id": "MfVBOvW01oOA",
        "outputId": "771b1d6b-db10-4446-bf0b-9c7a08cc159a"
      },
      "source": [
        "x[x==np.NAN]    #Checking for missing values"
      ],
      "execution_count": 12,
      "outputs": [
        {
          "output_type": "execute_result",
          "data": {
            "text/plain": [
              "array([], dtype=float64)"
            ]
          },
          "metadata": {
            "tags": []
          },
          "execution_count": 12
        }
      ]
    },
    {
      "cell_type": "code",
      "metadata": {
        "colab": {
          "base_uri": "https://localhost:8080/"
        },
        "id": "gc0LAfko1oLq",
        "outputId": "c90abfff-ac1a-4a35-a5fe-d53da4e0c20c"
      },
      "source": [
        "LinReg = LinearRegression(normalize = True)\r\n",
        "\r\n",
        "LinReg.fit(x,y)\r\n",
        "\r\n",
        "print(LinReg.score(x,y))   #printing R-squared"
      ],
      "execution_count": 13,
      "outputs": [
        {
          "output_type": "stream",
          "text": [
            "0.8488812666133723\n"
          ],
          "name": "stdout"
        }
      ]
    },
    {
      "cell_type": "markdown",
      "metadata": {
        "id": "_2R8Hhb3_uAA"
      },
      "source": [
        "## LOGISTIC REGRESSION"
      ]
    },
    {
      "cell_type": "code",
      "metadata": {
        "id": "bYU_jeNB_O8r"
      },
      "source": [
        "from sklearn.linear_model import LogisticRegression\r\n",
        "from sklearn.model_selection import train_test_split\r\n",
        "from sklearn.model_selection import cross_val_predict\r\n",
        "\r\n",
        "from sklearn import metrics\r\n",
        "from sklearn.metrics import classification_report\r\n",
        "from sklearn.metrics import confusion_matrix\r\n",
        "from sklearn.metrics import precision_score\r\n",
        "from sklearn.metrics import recall_score"
      ],
      "execution_count": 14,
      "outputs": []
    },
    {
      "cell_type": "code",
      "metadata": {
        "colab": {
          "base_uri": "https://localhost:8080/",
          "height": 0
        },
        "id": "ZJXwA5Sr_yiE",
        "outputId": "096f44e4-2f66-42f0-cfee-dc49374e55ba"
      },
      "source": [
        "address = '/content/sample_data/titanic-training-data.csv'\r\n",
        "titanic_training = pd.read_csv('/content/sample_data/titanic-training-data.csv')\r\n",
        "titanic_training.columns = ['passengerID', 'Survived', 'Pclass', 'Name', \"Sex\", 'Age', 'SibSp', 'Parch', 'Ticket', 'Fare', 'Cabin', 'Embarked']\r\n",
        "\r\n",
        "titanic_training.head()"
      ],
      "execution_count": 15,
      "outputs": [
        {
          "output_type": "execute_result",
          "data": {
            "text/html": [
              "<div>\n",
              "<style scoped>\n",
              "    .dataframe tbody tr th:only-of-type {\n",
              "        vertical-align: middle;\n",
              "    }\n",
              "\n",
              "    .dataframe tbody tr th {\n",
              "        vertical-align: top;\n",
              "    }\n",
              "\n",
              "    .dataframe thead th {\n",
              "        text-align: right;\n",
              "    }\n",
              "</style>\n",
              "<table border=\"1\" class=\"dataframe\">\n",
              "  <thead>\n",
              "    <tr style=\"text-align: right;\">\n",
              "      <th></th>\n",
              "      <th>passengerID</th>\n",
              "      <th>Survived</th>\n",
              "      <th>Pclass</th>\n",
              "      <th>Name</th>\n",
              "      <th>Sex</th>\n",
              "      <th>Age</th>\n",
              "      <th>SibSp</th>\n",
              "      <th>Parch</th>\n",
              "      <th>Ticket</th>\n",
              "      <th>Fare</th>\n",
              "      <th>Cabin</th>\n",
              "      <th>Embarked</th>\n",
              "    </tr>\n",
              "  </thead>\n",
              "  <tbody>\n",
              "    <tr>\n",
              "      <th>0</th>\n",
              "      <td>1</td>\n",
              "      <td>0</td>\n",
              "      <td>3</td>\n",
              "      <td>Braund, Mr. Owen Harris</td>\n",
              "      <td>male</td>\n",
              "      <td>22.0</td>\n",
              "      <td>1</td>\n",
              "      <td>0</td>\n",
              "      <td>A/5 21171</td>\n",
              "      <td>7.2500</td>\n",
              "      <td>NaN</td>\n",
              "      <td>S</td>\n",
              "    </tr>\n",
              "    <tr>\n",
              "      <th>1</th>\n",
              "      <td>2</td>\n",
              "      <td>1</td>\n",
              "      <td>1</td>\n",
              "      <td>Cumings, Mrs. John Bradley (Florence Briggs Th...</td>\n",
              "      <td>female</td>\n",
              "      <td>38.0</td>\n",
              "      <td>1</td>\n",
              "      <td>0</td>\n",
              "      <td>PC 17599</td>\n",
              "      <td>71.2833</td>\n",
              "      <td>C85</td>\n",
              "      <td>C</td>\n",
              "    </tr>\n",
              "    <tr>\n",
              "      <th>2</th>\n",
              "      <td>3</td>\n",
              "      <td>1</td>\n",
              "      <td>3</td>\n",
              "      <td>Heikkinen, Miss. Laina</td>\n",
              "      <td>female</td>\n",
              "      <td>26.0</td>\n",
              "      <td>0</td>\n",
              "      <td>0</td>\n",
              "      <td>STON/O2. 3101282</td>\n",
              "      <td>7.9250</td>\n",
              "      <td>NaN</td>\n",
              "      <td>S</td>\n",
              "    </tr>\n",
              "    <tr>\n",
              "      <th>3</th>\n",
              "      <td>4</td>\n",
              "      <td>1</td>\n",
              "      <td>1</td>\n",
              "      <td>Futrelle, Mrs. Jacques Heath (Lily May Peel)</td>\n",
              "      <td>female</td>\n",
              "      <td>35.0</td>\n",
              "      <td>1</td>\n",
              "      <td>0</td>\n",
              "      <td>113803</td>\n",
              "      <td>53.1000</td>\n",
              "      <td>C123</td>\n",
              "      <td>S</td>\n",
              "    </tr>\n",
              "    <tr>\n",
              "      <th>4</th>\n",
              "      <td>5</td>\n",
              "      <td>0</td>\n",
              "      <td>3</td>\n",
              "      <td>Allen, Mr. William Henry</td>\n",
              "      <td>male</td>\n",
              "      <td>35.0</td>\n",
              "      <td>0</td>\n",
              "      <td>0</td>\n",
              "      <td>373450</td>\n",
              "      <td>8.0500</td>\n",
              "      <td>NaN</td>\n",
              "      <td>S</td>\n",
              "    </tr>\n",
              "  </tbody>\n",
              "</table>\n",
              "</div>"
            ],
            "text/plain": [
              "   passengerID  Survived  Pclass  ...     Fare Cabin  Embarked\n",
              "0            1         0       3  ...   7.2500   NaN         S\n",
              "1            2         1       1  ...  71.2833   C85         C\n",
              "2            3         1       3  ...   7.9250   NaN         S\n",
              "3            4         1       1  ...  53.1000  C123         S\n",
              "4            5         0       3  ...   8.0500   NaN         S\n",
              "\n",
              "[5 rows x 12 columns]"
            ]
          },
          "metadata": {
            "tags": []
          },
          "execution_count": 15
        }
      ]
    },
    {
      "cell_type": "markdown",
      "metadata": {
        "id": "pjVhA8kZQtEY"
      },
      "source": [
        "Pclass = Passenger Class (1, 2, 3 for 1st, 2nd, 3rd) <br>\r\n",
        "SibSp = Number of Siblings/Spouses Aboard <br>\r\n",
        "Parch = Number of Parents/Children Aboard <br>\r\n",
        "Ticket = Ticket Number <br>\r\n",
        "Embarked = Port of Embarkation (C = Cherbourg, Q = Queenstown, S = Southampton)"
      ]
    },
    {
      "cell_type": "code",
      "metadata": {
        "id": "gIe8K4Iv_ygl",
        "colab": {
          "base_uri": "https://localhost:8080/"
        },
        "outputId": "8996d4fa-d807-40e8-f24c-a178fd057fc3"
      },
      "source": [
        "print(titanic_training.info())"
      ],
      "execution_count": 16,
      "outputs": [
        {
          "output_type": "stream",
          "text": [
            "<class 'pandas.core.frame.DataFrame'>\n",
            "RangeIndex: 891 entries, 0 to 890\n",
            "Data columns (total 12 columns):\n",
            " #   Column       Non-Null Count  Dtype  \n",
            "---  ------       --------------  -----  \n",
            " 0   passengerID  891 non-null    int64  \n",
            " 1   Survived     891 non-null    int64  \n",
            " 2   Pclass       891 non-null    int64  \n",
            " 3   Name         891 non-null    object \n",
            " 4   Sex          891 non-null    object \n",
            " 5   Age          714 non-null    float64\n",
            " 6   SibSp        891 non-null    int64  \n",
            " 7   Parch        891 non-null    int64  \n",
            " 8   Ticket       891 non-null    object \n",
            " 9   Fare         891 non-null    float64\n",
            " 10  Cabin        204 non-null    object \n",
            " 11  Embarked     889 non-null    object \n",
            "dtypes: float64(2), int64(5), object(5)\n",
            "memory usage: 83.7+ KB\n",
            "None\n"
          ],
          "name": "stdout"
        }
      ]
    },
    {
      "cell_type": "code",
      "metadata": {
        "id": "ixBBB9hrvGvk",
        "colab": {
          "base_uri": "https://localhost:8080/",
          "height": 0
        },
        "outputId": "7cdf03ff-c508-41ea-e473-8ccaa80e6338"
      },
      "source": [
        "sns.countplot(x = 'Survived', data = titanic_training)     # Checking if Survived is Binary"
      ],
      "execution_count": 17,
      "outputs": [
        {
          "output_type": "execute_result",
          "data": {
            "text/plain": [
              "<matplotlib.axes._subplots.AxesSubplot at 0x7ff33afac1d0>"
            ]
          },
          "metadata": {
            "tags": []
          },
          "execution_count": 17
        },
        {
          "output_type": "display_data",
          "data": {
            "image/png": "[encoded data removed]",
            "text/plain": [
              "<Figure size 720x576 with 1 Axes>"
            ]
          },
          "metadata": {
            "tags": [],
            "needs_background": "light"
          }
        }
      ]
    },
    {
      "cell_type": "code",
      "metadata": {
        "id": "lPiivUNJ_ye3",
        "colab": {
          "base_uri": "https://localhost:8080/"
        },
        "outputId": "667f5809-f241-4b6b-dc92-0eb682b4a91f"
      },
      "source": [
        "# Checking for Missing Values\r\n",
        "titanic_training.isnull().sum()"
      ],
      "execution_count": 18,
      "outputs": [
        {
          "output_type": "execute_result",
          "data": {
            "text/plain": [
              "passengerID      0\n",
              "Survived         0\n",
              "Pclass           0\n",
              "Name             0\n",
              "Sex              0\n",
              "Age            177\n",
              "SibSp            0\n",
              "Parch            0\n",
              "Ticket           0\n",
              "Fare             0\n",
              "Cabin          687\n",
              "Embarked         2\n",
              "dtype: int64"
            ]
          },
          "metadata": {
            "tags": []
          },
          "execution_count": 18
        }
      ]
    },
    {
      "cell_type": "code",
      "metadata": {
        "id": "s0j7a7OK_ydV",
        "colab": {
          "base_uri": "https://localhost:8080/",
          "height": 0
        },
        "outputId": "06cedc12-e0ae-43fa-e68d-6f68f0e9d96e"
      },
      "source": [
        "# Dropping irrelevant columns and Cabin given that is full of NAs\r\n",
        "titanic_data = titanic_training.drop([\"Name\", \"Ticket\", \"Cabin\"], axis = 1)\r\n",
        "titanic_data"
      ],
      "execution_count": 19,
      "outputs": [
        {
          "output_type": "execute_result",
          "data": {
            "text/html": [
              "<div>\n",
              "<style scoped>\n",
              "    .dataframe tbody tr th:only-of-type {\n",
              "        vertical-align: middle;\n",
              "    }\n",
              "\n",
              "    .dataframe tbody tr th {\n",
              "        vertical-align: top;\n",
              "    }\n",
              "\n",
              "    .dataframe thead th {\n",
              "        text-align: right;\n",
              "    }\n",
              "</style>\n",
              "<table border=\"1\" class=\"dataframe\">\n",
              "  <thead>\n",
              "    <tr style=\"text-align: right;\">\n",
              "      <th></th>\n",
              "      <th>passengerID</th>\n",
              "      <th>Survived</th>\n",
              "      <th>Pclass</th>\n",
              "      <th>Sex</th>\n",
              "      <th>Age</th>\n",
              "      <th>SibSp</th>\n",
              "      <th>Parch</th>\n",
              "      <th>Fare</th>\n",
              "      <th>Embarked</th>\n",
              "    </tr>\n",
              "  </thead>\n",
              "  <tbody>\n",
              "    <tr>\n",
              "      <th>0</th>\n",
              "      <td>1</td>\n",
              "      <td>0</td>\n",
              "      <td>3</td>\n",
              "      <td>male</td>\n",
              "      <td>22.0</td>\n",
              "      <td>1</td>\n",
              "      <td>0</td>\n",
              "      <td>7.2500</td>\n",
              "      <td>S</td>\n",
              "    </tr>\n",
              "    <tr>\n",
              "      <th>1</th>\n",
              "      <td>2</td>\n",
              "      <td>1</td>\n",
              "      <td>1</td>\n",
              "      <td>female</td>\n",
              "      <td>38.0</td>\n",
              "      <td>1</td>\n",
              "      <td>0</td>\n",
              "      <td>71.2833</td>\n",
              "      <td>C</td>\n",
              "    </tr>\n",
              "    <tr>\n",
              "      <th>2</th>\n",
              "      <td>3</td>\n",
              "      <td>1</td>\n",
              "      <td>3</td>\n",
              "      <td>female</td>\n",
              "      <td>26.0</td>\n",
              "      <td>0</td>\n",
              "      <td>0</td>\n",
              "      <td>7.9250</td>\n",
              "      <td>S</td>\n",
              "    </tr>\n",
              "    <tr>\n",
              "      <th>3</th>\n",
              "      <td>4</td>\n",
              "      <td>1</td>\n",
              "      <td>1</td>\n",
              "      <td>female</td>\n",
              "      <td>35.0</td>\n",
              "      <td>1</td>\n",
              "      <td>0</td>\n",
              "      <td>53.1000</td>\n",
              "      <td>S</td>\n",
              "    </tr>\n",
              "    <tr>\n",
              "      <th>4</th>\n",
              "      <td>5</td>\n",
              "      <td>0</td>\n",
              "      <td>3</td>\n",
              "      <td>male</td>\n",
              "      <td>35.0</td>\n",
              "      <td>0</td>\n",
              "      <td>0</td>\n",
              "      <td>8.0500</td>\n",
              "      <td>S</td>\n",
              "    </tr>\n",
              "    <tr>\n",
              "      <th>...</th>\n",
              "      <td>...</td>\n",
              "      <td>...</td>\n",
              "      <td>...</td>\n",
              "      <td>...</td>\n",
              "      <td>...</td>\n",
              "      <td>...</td>\n",
              "      <td>...</td>\n",
              "      <td>...</td>\n",
              "      <td>...</td>\n",
              "    </tr>\n",
              "    <tr>\n",
              "      <th>886</th>\n",
              "      <td>887</td>\n",
              "      <td>0</td>\n",
              "      <td>2</td>\n",
              "      <td>male</td>\n",
              "      <td>27.0</td>\n",
              "      <td>0</td>\n",
              "      <td>0</td>\n",
              "      <td>13.0000</td>\n",
              "      <td>S</td>\n",
              "    </tr>\n",
              "    <tr>\n",
              "      <th>887</th>\n",
              "      <td>888</td>\n",
              "      <td>1</td>\n",
              "      <td>1</td>\n",
              "      <td>female</td>\n",
              "      <td>19.0</td>\n",
              "      <td>0</td>\n",
              "      <td>0</td>\n",
              "      <td>30.0000</td>\n",
              "      <td>S</td>\n",
              "    </tr>\n",
              "    <tr>\n",
              "      <th>888</th>\n",
              "      <td>889</td>\n",
              "      <td>0</td>\n",
              "      <td>3</td>\n",
              "      <td>female</td>\n",
              "      <td>NaN</td>\n",
              "      <td>1</td>\n",
              "      <td>2</td>\n",
              "      <td>23.4500</td>\n",
              "      <td>S</td>\n",
              "    </tr>\n",
              "    <tr>\n",
              "      <th>889</th>\n",
              "      <td>890</td>\n",
              "      <td>1</td>\n",
              "      <td>1</td>\n",
              "      <td>male</td>\n",
              "      <td>26.0</td>\n",
              "      <td>0</td>\n",
              "      <td>0</td>\n",
              "      <td>30.0000</td>\n",
              "      <td>C</td>\n",
              "    </tr>\n",
              "    <tr>\n",
              "      <th>890</th>\n",
              "      <td>891</td>\n",
              "      <td>0</td>\n",
              "      <td>3</td>\n",
              "      <td>male</td>\n",
              "      <td>32.0</td>\n",
              "      <td>0</td>\n",
              "      <td>0</td>\n",
              "      <td>7.7500</td>\n",
              "      <td>Q</td>\n",
              "    </tr>\n",
              "  </tbody>\n",
              "</table>\n",
              "<p>891 rows × 9 columns</p>\n",
              "</div>"
            ],
            "text/plain": [
              "     passengerID  Survived  Pclass     Sex  ...  SibSp  Parch     Fare  Embarked\n",
              "0              1         0       3    male  ...      1      0   7.2500         S\n",
              "1              2         1       1  female  ...      1      0  71.2833         C\n",
              "2              3         1       3  female  ...      0      0   7.9250         S\n",
              "3              4         1       1  female  ...      1      0  53.1000         S\n",
              "4              5         0       3    male  ...      0      0   8.0500         S\n",
              "..           ...       ...     ...     ...  ...    ...    ...      ...       ...\n",
              "886          887         0       2    male  ...      0      0  13.0000         S\n",
              "887          888         1       1  female  ...      0      0  30.0000         S\n",
              "888          889         0       3  female  ...      1      2  23.4500         S\n",
              "889          890         1       1    male  ...      0      0  30.0000         C\n",
              "890          891         0       3    male  ...      0      0   7.7500         Q\n",
              "\n",
              "[891 rows x 9 columns]"
            ]
          },
          "metadata": {
            "tags": []
          },
          "execution_count": 19
        }
      ]
    },
    {
      "cell_type": "code",
      "metadata": {
        "id": "TwwTRIJF_ybo",
        "colab": {
          "base_uri": "https://localhost:8080/",
          "height": 0
        },
        "outputId": "3ffc8603-f187-414c-f96d-b3d1b7511d00"
      },
      "source": [
        "# Imputting Missing Values, checking distribution across parch and age\r\n",
        "sns.boxplot(x ='Parch', y='Age', data= titanic_data)"
      ],
      "execution_count": 20,
      "outputs": [
        {
          "output_type": "execute_result",
          "data": {
            "text/plain": [
              "<matplotlib.axes._subplots.AxesSubplot at 0x7ff33976ec90>"
            ]
          },
          "metadata": {
            "tags": []
          },
          "execution_count": 20
        },
        {
          "output_type": "display_data",
          "data": {
            "image/png": "[encoded data removed]",
            "text/plain": [
              "<Figure size 720x576 with 1 Axes>"
            ]
          },
          "metadata": {
            "tags": [],
            "needs_background": "light"
          }
        }
      ]
    },
    {
      "cell_type": "code",
      "metadata": {
        "id": "Wo4zx1-7_yXx",
        "colab": {
          "base_uri": "https://localhost:8080/",
          "height": 0
        },
        "outputId": "d69d5d8d-1b55-4f7d-e23b-d6c3d4799c79"
      },
      "source": [
        "Parch_groups = titanic_data.groupby(\"Parch\")\r\n",
        "Parch_groups.mean()"
      ],
      "execution_count": 21,
      "outputs": [
        {
          "output_type": "execute_result",
          "data": {
            "text/html": [
              "<div>\n",
              "<style scoped>\n",
              "    .dataframe tbody tr th:only-of-type {\n",
              "        vertical-align: middle;\n",
              "    }\n",
              "\n",
              "    .dataframe tbody tr th {\n",
              "        vertical-align: top;\n",
              "    }\n",
              "\n",
              "    .dataframe thead th {\n",
              "        text-align: right;\n",
              "    }\n",
              "</style>\n",
              "<table border=\"1\" class=\"dataframe\">\n",
              "  <thead>\n",
              "    <tr style=\"text-align: right;\">\n",
              "      <th></th>\n",
              "      <th>passengerID</th>\n",
              "      <th>Survived</th>\n",
              "      <th>Pclass</th>\n",
              "      <th>Age</th>\n",
              "      <th>SibSp</th>\n",
              "      <th>Fare</th>\n",
              "    </tr>\n",
              "    <tr>\n",
              "      <th>Parch</th>\n",
              "      <th></th>\n",
              "      <th></th>\n",
              "      <th></th>\n",
              "      <th></th>\n",
              "      <th></th>\n",
              "      <th></th>\n",
              "    </tr>\n",
              "  </thead>\n",
              "  <tbody>\n",
              "    <tr>\n",
              "      <th>0</th>\n",
              "      <td>445.255162</td>\n",
              "      <td>0.343658</td>\n",
              "      <td>2.321534</td>\n",
              "      <td>32.178503</td>\n",
              "      <td>0.237463</td>\n",
              "      <td>25.586774</td>\n",
              "    </tr>\n",
              "    <tr>\n",
              "      <th>1</th>\n",
              "      <td>465.110169</td>\n",
              "      <td>0.550847</td>\n",
              "      <td>2.203390</td>\n",
              "      <td>24.422000</td>\n",
              "      <td>1.084746</td>\n",
              "      <td>46.778180</td>\n",
              "    </tr>\n",
              "    <tr>\n",
              "      <th>2</th>\n",
              "      <td>416.662500</td>\n",
              "      <td>0.500000</td>\n",
              "      <td>2.275000</td>\n",
              "      <td>17.216912</td>\n",
              "      <td>2.062500</td>\n",
              "      <td>64.337604</td>\n",
              "    </tr>\n",
              "    <tr>\n",
              "      <th>3</th>\n",
              "      <td>579.200000</td>\n",
              "      <td>0.600000</td>\n",
              "      <td>2.600000</td>\n",
              "      <td>33.200000</td>\n",
              "      <td>1.000000</td>\n",
              "      <td>25.951660</td>\n",
              "    </tr>\n",
              "    <tr>\n",
              "      <th>4</th>\n",
              "      <td>384.000000</td>\n",
              "      <td>0.000000</td>\n",
              "      <td>2.500000</td>\n",
              "      <td>44.500000</td>\n",
              "      <td>0.750000</td>\n",
              "      <td>84.968750</td>\n",
              "    </tr>\n",
              "    <tr>\n",
              "      <th>5</th>\n",
              "      <td>435.200000</td>\n",
              "      <td>0.200000</td>\n",
              "      <td>3.000000</td>\n",
              "      <td>39.200000</td>\n",
              "      <td>0.600000</td>\n",
              "      <td>32.550000</td>\n",
              "    </tr>\n",
              "    <tr>\n",
              "      <th>6</th>\n",
              "      <td>679.000000</td>\n",
              "      <td>0.000000</td>\n",
              "      <td>3.000000</td>\n",
              "      <td>43.000000</td>\n",
              "      <td>1.000000</td>\n",
              "      <td>46.900000</td>\n",
              "    </tr>\n",
              "  </tbody>\n",
              "</table>\n",
              "</div>"
            ],
            "text/plain": [
              "       passengerID  Survived    Pclass        Age     SibSp       Fare\n",
              "Parch                                                                 \n",
              "0       445.255162  0.343658  2.321534  32.178503  0.237463  25.586774\n",
              "1       465.110169  0.550847  2.203390  24.422000  1.084746  46.778180\n",
              "2       416.662500  0.500000  2.275000  17.216912  2.062500  64.337604\n",
              "3       579.200000  0.600000  2.600000  33.200000  1.000000  25.951660\n",
              "4       384.000000  0.000000  2.500000  44.500000  0.750000  84.968750\n",
              "5       435.200000  0.200000  3.000000  39.200000  0.600000  32.550000\n",
              "6       679.000000  0.000000  3.000000  43.000000  1.000000  46.900000"
            ]
          },
          "metadata": {
            "tags": []
          },
          "execution_count": 21
        }
      ]
    },
    {
      "cell_type": "code",
      "metadata": {
        "id": "UVmBMCop_yVo"
      },
      "source": [
        "def age_approx(cols):\r\n",
        "    Age = cols[0]\r\n",
        "    Parch = cols[1]\r\n",
        "\r\n",
        "    if pd.isnull(Age):\r\n",
        "        if Parch == 0:\r\n",
        "            return 32\r\n",
        "        elif Parch == 1:\r\n",
        "            return 24\r\n",
        "        elif Parch == 2:\r\n",
        "            return 17\r\n",
        "        elif Parch == 3:\r\n",
        "            return 33\r\n",
        "        elif Parch == 4:\r\n",
        "            return 45\r\n",
        "        else:\r\n",
        "            return 30\r\n",
        "    \r\n",
        "    else:\r\n",
        "        return Age"
      ],
      "execution_count": 22,
      "outputs": []
    },
    {
      "cell_type": "code",
      "metadata": {
        "colab": {
          "base_uri": "https://localhost:8080/"
        },
        "id": "KCa55DxytdEp",
        "outputId": "70c0d423-1a12-4554-e4da-062020b284ed"
      },
      "source": [
        "titanic_data['Age'] = titanic_data[['Age','Parch']].apply(age_approx, axis = 1)\r\n",
        "titanic_data.isnull().sum()"
      ],
      "execution_count": 23,
      "outputs": [
        {
          "output_type": "execute_result",
          "data": {
            "text/plain": [
              "passengerID    0\n",
              "Survived       0\n",
              "Pclass         0\n",
              "Sex            0\n",
              "Age            0\n",
              "SibSp          0\n",
              "Parch          0\n",
              "Fare           0\n",
              "Embarked       2\n",
              "dtype: int64"
            ]
          },
          "metadata": {
            "tags": []
          },
          "execution_count": 23
        }
      ]
    },
    {
      "cell_type": "code",
      "metadata": {
        "colab": {
          "base_uri": "https://localhost:8080/"
        },
        "id": "GedXvLDPtc_2",
        "outputId": "d03423a0-79b6-4b28-f61a-e23418cf878d"
      },
      "source": [
        "titanic_data = titanic_data.dropna()\r\n",
        "titanic_data = titanic_data.reset_index(drop=True)\r\n",
        "print(titanic_data.info())"
      ],
      "execution_count": 24,
      "outputs": [
        {
          "output_type": "stream",
          "text": [
            "<class 'pandas.core.frame.DataFrame'>\n",
            "RangeIndex: 889 entries, 0 to 888\n",
            "Data columns (total 9 columns):\n",
            " #   Column       Non-Null Count  Dtype  \n",
            "---  ------       --------------  -----  \n",
            " 0   passengerID  889 non-null    int64  \n",
            " 1   Survived     889 non-null    int64  \n",
            " 2   Pclass       889 non-null    int64  \n",
            " 3   Sex          889 non-null    object \n",
            " 4   Age          889 non-null    float64\n",
            " 5   SibSp        889 non-null    int64  \n",
            " 6   Parch        889 non-null    int64  \n",
            " 7   Fare         889 non-null    float64\n",
            " 8   Embarked     889 non-null    object \n",
            "dtypes: float64(2), int64(5), object(2)\n",
            "memory usage: 62.6+ KB\n",
            "None\n"
          ],
          "name": "stdout"
        }
      ]
    },
    {
      "cell_type": "code",
      "metadata": {
        "id": "kxzxog2Dtc9Z",
        "colab": {
          "base_uri": "https://localhost:8080/",
          "height": 0
        },
        "outputId": "6e12e351-e53f-4760-a241-a8c724e0e5bf"
      },
      "source": [
        "# Converting categorical variables to dummy\r\n",
        "from sklearn.preprocessing import LabelEncoder\r\n",
        "\r\n",
        "label_encoder = LabelEncoder()\r\n",
        "gender_cat = titanic_data['Sex']       # Sex as dummy\r\n",
        "gender_encoded = label_encoder.fit_transform(gender_cat)\r\n",
        "display(gender_encoded[0:5])\r\n",
        "titanic_data.head()                    # Male = 1 ; Female = 0"
      ],
      "execution_count": 25,
      "outputs": [
        {
          "output_type": "display_data",
          "data": {
            "text/plain": [
              "array([1, 0, 0, 0, 1])"
            ]
          },
          "metadata": {
            "tags": []
          }
        },
        {
          "output_type": "execute_result",
          "data": {
            "text/html": [
              "<div>\n",
              "<style scoped>\n",
              "    .dataframe tbody tr th:only-of-type {\n",
              "        vertical-align: middle;\n",
              "    }\n",
              "\n",
              "    .dataframe tbody tr th {\n",
              "        vertical-align: top;\n",
              "    }\n",
              "\n",
              "    .dataframe thead th {\n",
              "        text-align: right;\n",
              "    }\n",
              "</style>\n",
              "<table border=\"1\" class=\"dataframe\">\n",
              "  <thead>\n",
              "    <tr style=\"text-align: right;\">\n",
              "      <th></th>\n",
              "      <th>passengerID</th>\n",
              "      <th>Survived</th>\n",
              "      <th>Pclass</th>\n",
              "      <th>Sex</th>\n",
              "      <th>Age</th>\n",
              "      <th>SibSp</th>\n",
              "      <th>Parch</th>\n",
              "      <th>Fare</th>\n",
              "      <th>Embarked</th>\n",
              "    </tr>\n",
              "  </thead>\n",
              "  <tbody>\n",
              "    <tr>\n",
              "      <th>0</th>\n",
              "      <td>1</td>\n",
              "      <td>0</td>\n",
              "      <td>3</td>\n",
              "      <td>male</td>\n",
              "      <td>22.0</td>\n",
              "      <td>1</td>\n",
              "      <td>0</td>\n",
              "      <td>7.2500</td>\n",
              "      <td>S</td>\n",
              "    </tr>\n",
              "    <tr>\n",
              "      <th>1</th>\n",
              "      <td>2</td>\n",
              "      <td>1</td>\n",
              "      <td>1</td>\n",
              "      <td>female</td>\n",
              "      <td>38.0</td>\n",
              "      <td>1</td>\n",
              "      <td>0</td>\n",
              "      <td>71.2833</td>\n",
              "      <td>C</td>\n",
              "    </tr>\n",
              "    <tr>\n",
              "      <th>2</th>\n",
              "      <td>3</td>\n",
              "      <td>1</td>\n",
              "      <td>3</td>\n",
              "      <td>female</td>\n",
              "      <td>26.0</td>\n",
              "      <td>0</td>\n",
              "      <td>0</td>\n",
              "      <td>7.9250</td>\n",
              "      <td>S</td>\n",
              "    </tr>\n",
              "    <tr>\n",
              "      <th>3</th>\n",
              "      <td>4</td>\n",
              "      <td>1</td>\n",
              "      <td>1</td>\n",
              "      <td>female</td>\n",
              "      <td>35.0</td>\n",
              "      <td>1</td>\n",
              "      <td>0</td>\n",
              "      <td>53.1000</td>\n",
              "      <td>S</td>\n",
              "    </tr>\n",
              "    <tr>\n",
              "      <th>4</th>\n",
              "      <td>5</td>\n",
              "      <td>0</td>\n",
              "      <td>3</td>\n",
              "      <td>male</td>\n",
              "      <td>35.0</td>\n",
              "      <td>0</td>\n",
              "      <td>0</td>\n",
              "      <td>8.0500</td>\n",
              "      <td>S</td>\n",
              "    </tr>\n",
              "  </tbody>\n",
              "</table>\n",
              "</div>"
            ],
            "text/plain": [
              "   passengerID  Survived  Pclass     Sex   Age  SibSp  Parch     Fare Embarked\n",
              "0            1         0       3    male  22.0      1      0   7.2500        S\n",
              "1            2         1       1  female  38.0      1      0  71.2833        C\n",
              "2            3         1       3  female  26.0      0      0   7.9250        S\n",
              "3            4         1       1  female  35.0      1      0  53.1000        S\n",
              "4            5         0       3    male  35.0      0      0   8.0500        S"
            ]
          },
          "metadata": {
            "tags": []
          },
          "execution_count": 25
        }
      ]
    },
    {
      "cell_type": "code",
      "metadata": {
        "id": "3wuTPlEntc1q",
        "colab": {
          "base_uri": "https://localhost:8080/",
          "height": 0
        },
        "outputId": "ab371ab6-adb5-42da-f911-045adddbe4bd"
      },
      "source": [
        "gender_DF = pd.DataFrame(gender_encoded, columns=['male_gender'])\r\n",
        "gender_DF.head()"
      ],
      "execution_count": 26,
      "outputs": [
        {
          "output_type": "execute_result",
          "data": {
            "text/html": [
              "<div>\n",
              "<style scoped>\n",
              "    .dataframe tbody tr th:only-of-type {\n",
              "        vertical-align: middle;\n",
              "    }\n",
              "\n",
              "    .dataframe tbody tr th {\n",
              "        vertical-align: top;\n",
              "    }\n",
              "\n",
              "    .dataframe thead th {\n",
              "        text-align: right;\n",
              "    }\n",
              "</style>\n",
              "<table border=\"1\" class=\"dataframe\">\n",
              "  <thead>\n",
              "    <tr style=\"text-align: right;\">\n",
              "      <th></th>\n",
              "      <th>male_gender</th>\n",
              "    </tr>\n",
              "  </thead>\n",
              "  <tbody>\n",
              "    <tr>\n",
              "      <th>0</th>\n",
              "      <td>1</td>\n",
              "    </tr>\n",
              "    <tr>\n",
              "      <th>1</th>\n",
              "      <td>0</td>\n",
              "    </tr>\n",
              "    <tr>\n",
              "      <th>2</th>\n",
              "      <td>0</td>\n",
              "    </tr>\n",
              "    <tr>\n",
              "      <th>3</th>\n",
              "      <td>0</td>\n",
              "    </tr>\n",
              "    <tr>\n",
              "      <th>4</th>\n",
              "      <td>1</td>\n",
              "    </tr>\n",
              "  </tbody>\n",
              "</table>\n",
              "</div>"
            ],
            "text/plain": [
              "   male_gender\n",
              "0            1\n",
              "1            0\n",
              "2            0\n",
              "3            0\n",
              "4            1"
            ]
          },
          "metadata": {
            "tags": []
          },
          "execution_count": 26
        }
      ]
    },
    {
      "cell_type": "code",
      "metadata": {
        "colab": {
          "base_uri": "https://localhost:8080/",
          "height": 0
        },
        "id": "KxqQNxZgGhlx",
        "outputId": "edfa4cc4-9ea7-4a8b-9e96-d4d044d18402"
      },
      "source": [
        "embarked_cat = titanic_data['Embarked']\r\n",
        "embarked_encoded = label_encoder.fit_transform(embarked_cat)\r\n",
        "display(embarked_encoded[0:5])              # 3 categories, we need binary\r\n",
        "titanic_data.head()"
      ],
      "execution_count": 27,
      "outputs": [
        {
          "output_type": "display_data",
          "data": {
            "text/plain": [
              "array([2, 0, 2, 2, 2])"
            ]
          },
          "metadata": {
            "tags": []
          }
        },
        {
          "output_type": "execute_result",
          "data": {
            "text/html": [
              "<div>\n",
              "<style scoped>\n",
              "    .dataframe tbody tr th:only-of-type {\n",
              "        vertical-align: middle;\n",
              "    }\n",
              "\n",
              "    .dataframe tbody tr th {\n",
              "        vertical-align: top;\n",
              "    }\n",
              "\n",
              "    .dataframe thead th {\n",
              "        text-align: right;\n",
              "    }\n",
              "</style>\n",
              "<table border=\"1\" class=\"dataframe\">\n",
              "  <thead>\n",
              "    <tr style=\"text-align: right;\">\n",
              "      <th></th>\n",
              "      <th>passengerID</th>\n",
              "      <th>Survived</th>\n",
              "      <th>Pclass</th>\n",
              "      <th>Sex</th>\n",
              "      <th>Age</th>\n",
              "      <th>SibSp</th>\n",
              "      <th>Parch</th>\n",
              "      <th>Fare</th>\n",
              "      <th>Embarked</th>\n",
              "    </tr>\n",
              "  </thead>\n",
              "  <tbody>\n",
              "    <tr>\n",
              "      <th>0</th>\n",
              "      <td>1</td>\n",
              "      <td>0</td>\n",
              "      <td>3</td>\n",
              "      <td>male</td>\n",
              "      <td>22.0</td>\n",
              "      <td>1</td>\n",
              "      <td>0</td>\n",
              "      <td>7.2500</td>\n",
              "      <td>S</td>\n",
              "    </tr>\n",
              "    <tr>\n",
              "      <th>1</th>\n",
              "      <td>2</td>\n",
              "      <td>1</td>\n",
              "      <td>1</td>\n",
              "      <td>female</td>\n",
              "      <td>38.0</td>\n",
              "      <td>1</td>\n",
              "      <td>0</td>\n",
              "      <td>71.2833</td>\n",
              "      <td>C</td>\n",
              "    </tr>\n",
              "    <tr>\n",
              "      <th>2</th>\n",
              "      <td>3</td>\n",
              "      <td>1</td>\n",
              "      <td>3</td>\n",
              "      <td>female</td>\n",
              "      <td>26.0</td>\n",
              "      <td>0</td>\n",
              "      <td>0</td>\n",
              "      <td>7.9250</td>\n",
              "      <td>S</td>\n",
              "    </tr>\n",
              "    <tr>\n",
              "      <th>3</th>\n",
              "      <td>4</td>\n",
              "      <td>1</td>\n",
              "      <td>1</td>\n",
              "      <td>female</td>\n",
              "      <td>35.0</td>\n",
              "      <td>1</td>\n",
              "      <td>0</td>\n",
              "      <td>53.1000</td>\n",
              "      <td>S</td>\n",
              "    </tr>\n",
              "    <tr>\n",
              "      <th>4</th>\n",
              "      <td>5</td>\n",
              "      <td>0</td>\n",
              "      <td>3</td>\n",
              "      <td>male</td>\n",
              "      <td>35.0</td>\n",
              "      <td>0</td>\n",
              "      <td>0</td>\n",
              "      <td>8.0500</td>\n",
              "      <td>S</td>\n",
              "    </tr>\n",
              "  </tbody>\n",
              "</table>\n",
              "</div>"
            ],
            "text/plain": [
              "   passengerID  Survived  Pclass     Sex   Age  SibSp  Parch     Fare Embarked\n",
              "0            1         0       3    male  22.0      1      0   7.2500        S\n",
              "1            2         1       1  female  38.0      1      0  71.2833        C\n",
              "2            3         1       3  female  26.0      0      0   7.9250        S\n",
              "3            4         1       1  female  35.0      1      0  53.1000        S\n",
              "4            5         0       3    male  35.0      0      0   8.0500        S"
            ]
          },
          "metadata": {
            "tags": []
          },
          "execution_count": 27
        }
      ]
    },
    {
      "cell_type": "code",
      "metadata": {
        "colab": {
          "base_uri": "https://localhost:8080/",
          "height": 0
        },
        "id": "wRQYNO1IGhja",
        "outputId": "118eec9b-4e91-4c56-f2ee-6f5368f42f09"
      },
      "source": [
        "# OneHotEncoder for categorical binary, OrdinalEncoder for ordinal, LabelEncoder for categorical > 2 options + OneHotEncoder+reshape+toarray\r\n",
        "\r\n",
        "from sklearn.preprocessing import OneHotEncoder\r\n",
        "\r\n",
        "binary_encoder = OneHotEncoder(categories='auto')\r\n",
        "embarked_1hot = binary_encoder.fit_transform(embarked_encoded.reshape(-1,1))\r\n",
        "embarked_1hot_mat = embarked_1hot.toarray()\r\n",
        "embarked_DF = pd.DataFrame(embarked_1hot_mat, columns = ['C','Q','S'])\r\n",
        "embarked_DF.head()"
      ],
      "execution_count": 28,
      "outputs": [
        {
          "output_type": "execute_result",
          "data": {
            "text/html": [
              "<div>\n",
              "<style scoped>\n",
              "    .dataframe tbody tr th:only-of-type {\n",
              "        vertical-align: middle;\n",
              "    }\n",
              "\n",
              "    .dataframe tbody tr th {\n",
              "        vertical-align: top;\n",
              "    }\n",
              "\n",
              "    .dataframe thead th {\n",
              "        text-align: right;\n",
              "    }\n",
              "</style>\n",
              "<table border=\"1\" class=\"dataframe\">\n",
              "  <thead>\n",
              "    <tr style=\"text-align: right;\">\n",
              "      <th></th>\n",
              "      <th>C</th>\n",
              "      <th>Q</th>\n",
              "      <th>S</th>\n",
              "    </tr>\n",
              "  </thead>\n",
              "  <tbody>\n",
              "    <tr>\n",
              "      <th>0</th>\n",
              "      <td>0.0</td>\n",
              "      <td>0.0</td>\n",
              "      <td>1.0</td>\n",
              "    </tr>\n",
              "    <tr>\n",
              "      <th>1</th>\n",
              "      <td>1.0</td>\n",
              "      <td>0.0</td>\n",
              "      <td>0.0</td>\n",
              "    </tr>\n",
              "    <tr>\n",
              "      <th>2</th>\n",
              "      <td>0.0</td>\n",
              "      <td>0.0</td>\n",
              "      <td>1.0</td>\n",
              "    </tr>\n",
              "    <tr>\n",
              "      <th>3</th>\n",
              "      <td>0.0</td>\n",
              "      <td>0.0</td>\n",
              "      <td>1.0</td>\n",
              "    </tr>\n",
              "    <tr>\n",
              "      <th>4</th>\n",
              "      <td>0.0</td>\n",
              "      <td>0.0</td>\n",
              "      <td>1.0</td>\n",
              "    </tr>\n",
              "  </tbody>\n",
              "</table>\n",
              "</div>"
            ],
            "text/plain": [
              "     C    Q    S\n",
              "0  0.0  0.0  1.0\n",
              "1  1.0  0.0  0.0\n",
              "2  0.0  0.0  1.0\n",
              "3  0.0  0.0  1.0\n",
              "4  0.0  0.0  1.0"
            ]
          },
          "metadata": {
            "tags": []
          },
          "execution_count": 28
        }
      ]
    },
    {
      "cell_type": "code",
      "metadata": {
        "colab": {
          "base_uri": "https://localhost:8080/",
          "height": 0
        },
        "id": "ApGXVONaGhhA",
        "outputId": "101cefe3-c75b-410a-8f64-76df38390beb"
      },
      "source": [
        "titanic_data = titanic_data.drop(['Sex', 'Embarked'], axis=1)\r\n",
        "titanic_data.head()"
      ],
      "execution_count": 29,
      "outputs": [
        {
          "output_type": "execute_result",
          "data": {
            "text/html": [
              "<div>\n",
              "<style scoped>\n",
              "    .dataframe tbody tr th:only-of-type {\n",
              "        vertical-align: middle;\n",
              "    }\n",
              "\n",
              "    .dataframe tbody tr th {\n",
              "        vertical-align: top;\n",
              "    }\n",
              "\n",
              "    .dataframe thead th {\n",
              "        text-align: right;\n",
              "    }\n",
              "</style>\n",
              "<table border=\"1\" class=\"dataframe\">\n",
              "  <thead>\n",
              "    <tr style=\"text-align: right;\">\n",
              "      <th></th>\n",
              "      <th>passengerID</th>\n",
              "      <th>Survived</th>\n",
              "      <th>Pclass</th>\n",
              "      <th>Age</th>\n",
              "      <th>SibSp</th>\n",
              "      <th>Parch</th>\n",
              "      <th>Fare</th>\n",
              "    </tr>\n",
              "  </thead>\n",
              "  <tbody>\n",
              "    <tr>\n",
              "      <th>0</th>\n",
              "      <td>1</td>\n",
              "      <td>0</td>\n",
              "      <td>3</td>\n",
              "      <td>22.0</td>\n",
              "      <td>1</td>\n",
              "      <td>0</td>\n",
              "      <td>7.2500</td>\n",
              "    </tr>\n",
              "    <tr>\n",
              "      <th>1</th>\n",
              "      <td>2</td>\n",
              "      <td>1</td>\n",
              "      <td>1</td>\n",
              "      <td>38.0</td>\n",
              "      <td>1</td>\n",
              "      <td>0</td>\n",
              "      <td>71.2833</td>\n",
              "    </tr>\n",
              "    <tr>\n",
              "      <th>2</th>\n",
              "      <td>3</td>\n",
              "      <td>1</td>\n",
              "      <td>3</td>\n",
              "      <td>26.0</td>\n",
              "      <td>0</td>\n",
              "      <td>0</td>\n",
              "      <td>7.9250</td>\n",
              "    </tr>\n",
              "    <tr>\n",
              "      <th>3</th>\n",
              "      <td>4</td>\n",
              "      <td>1</td>\n",
              "      <td>1</td>\n",
              "      <td>35.0</td>\n",
              "      <td>1</td>\n",
              "      <td>0</td>\n",
              "      <td>53.1000</td>\n",
              "    </tr>\n",
              "    <tr>\n",
              "      <th>4</th>\n",
              "      <td>5</td>\n",
              "      <td>0</td>\n",
              "      <td>3</td>\n",
              "      <td>35.0</td>\n",
              "      <td>0</td>\n",
              "      <td>0</td>\n",
              "      <td>8.0500</td>\n",
              "    </tr>\n",
              "  </tbody>\n",
              "</table>\n",
              "</div>"
            ],
            "text/plain": [
              "   passengerID  Survived  Pclass   Age  SibSp  Parch     Fare\n",
              "0            1         0       3  22.0      1      0   7.2500\n",
              "1            2         1       1  38.0      1      0  71.2833\n",
              "2            3         1       3  26.0      0      0   7.9250\n",
              "3            4         1       1  35.0      1      0  53.1000\n",
              "4            5         0       3  35.0      0      0   8.0500"
            ]
          },
          "metadata": {
            "tags": []
          },
          "execution_count": 29
        }
      ]
    },
    {
      "cell_type": "code",
      "metadata": {
        "colab": {
          "base_uri": "https://localhost:8080/",
          "height": 0
        },
        "id": "fjvgWy-MGher",
        "outputId": "873f76e0-bc5a-46a9-ad3a-7a77a894d420"
      },
      "source": [
        "titanic_dmy = pd.concat([titanic_data, gender_DF, embarked_DF], axis=1, verify_integrity=True).astype(float)\r\n",
        "titanic_dmy.head()"
      ],
      "execution_count": 30,
      "outputs": [
        {
          "output_type": "execute_result",
          "data": {
            "text/html": [
              "<div>\n",
              "<style scoped>\n",
              "    .dataframe tbody tr th:only-of-type {\n",
              "        vertical-align: middle;\n",
              "    }\n",
              "\n",
              "    .dataframe tbody tr th {\n",
              "        vertical-align: top;\n",
              "    }\n",
              "\n",
              "    .dataframe thead th {\n",
              "        text-align: right;\n",
              "    }\n",
              "</style>\n",
              "<table border=\"1\" class=\"dataframe\">\n",
              "  <thead>\n",
              "    <tr style=\"text-align: right;\">\n",
              "      <th></th>\n",
              "      <th>passengerID</th>\n",
              "      <th>Survived</th>\n",
              "      <th>Pclass</th>\n",
              "      <th>Age</th>\n",
              "      <th>SibSp</th>\n",
              "      <th>Parch</th>\n",
              "      <th>Fare</th>\n",
              "      <th>male_gender</th>\n",
              "      <th>C</th>\n",
              "      <th>Q</th>\n",
              "      <th>S</th>\n",
              "    </tr>\n",
              "  </thead>\n",
              "  <tbody>\n",
              "    <tr>\n",
              "      <th>0</th>\n",
              "      <td>1.0</td>\n",
              "      <td>0.0</td>\n",
              "      <td>3.0</td>\n",
              "      <td>22.0</td>\n",
              "      <td>1.0</td>\n",
              "      <td>0.0</td>\n",
              "      <td>7.2500</td>\n",
              "      <td>1.0</td>\n",
              "      <td>0.0</td>\n",
              "      <td>0.0</td>\n",
              "      <td>1.0</td>\n",
              "    </tr>\n",
              "    <tr>\n",
              "      <th>1</th>\n",
              "      <td>2.0</td>\n",
              "      <td>1.0</td>\n",
              "      <td>1.0</td>\n",
              "      <td>38.0</td>\n",
              "      <td>1.0</td>\n",
              "      <td>0.0</td>\n",
              "      <td>71.2833</td>\n",
              "      <td>0.0</td>\n",
              "      <td>1.0</td>\n",
              "      <td>0.0</td>\n",
              "      <td>0.0</td>\n",
              "    </tr>\n",
              "    <tr>\n",
              "      <th>2</th>\n",
              "      <td>3.0</td>\n",
              "      <td>1.0</td>\n",
              "      <td>3.0</td>\n",
              "      <td>26.0</td>\n",
              "      <td>0.0</td>\n",
              "      <td>0.0</td>\n",
              "      <td>7.9250</td>\n",
              "      <td>0.0</td>\n",
              "      <td>0.0</td>\n",
              "      <td>0.0</td>\n",
              "      <td>1.0</td>\n",
              "    </tr>\n",
              "    <tr>\n",
              "      <th>3</th>\n",
              "      <td>4.0</td>\n",
              "      <td>1.0</td>\n",
              "      <td>1.0</td>\n",
              "      <td>35.0</td>\n",
              "      <td>1.0</td>\n",
              "      <td>0.0</td>\n",
              "      <td>53.1000</td>\n",
              "      <td>0.0</td>\n",
              "      <td>0.0</td>\n",
              "      <td>0.0</td>\n",
              "      <td>1.0</td>\n",
              "    </tr>\n",
              "    <tr>\n",
              "      <th>4</th>\n",
              "      <td>5.0</td>\n",
              "      <td>0.0</td>\n",
              "      <td>3.0</td>\n",
              "      <td>35.0</td>\n",
              "      <td>0.0</td>\n",
              "      <td>0.0</td>\n",
              "      <td>8.0500</td>\n",
              "      <td>1.0</td>\n",
              "      <td>0.0</td>\n",
              "      <td>0.0</td>\n",
              "      <td>1.0</td>\n",
              "    </tr>\n",
              "  </tbody>\n",
              "</table>\n",
              "</div>"
            ],
            "text/plain": [
              "   passengerID  Survived  Pclass   Age  ...  male_gender    C    Q    S\n",
              "0          1.0       0.0     3.0  22.0  ...          1.0  0.0  0.0  1.0\n",
              "1          2.0       1.0     1.0  38.0  ...          0.0  1.0  0.0  0.0\n",
              "2          3.0       1.0     3.0  26.0  ...          0.0  0.0  0.0  1.0\n",
              "3          4.0       1.0     1.0  35.0  ...          0.0  0.0  0.0  1.0\n",
              "4          5.0       0.0     3.0  35.0  ...          1.0  0.0  0.0  1.0\n",
              "\n",
              "[5 rows x 11 columns]"
            ]
          },
          "metadata": {
            "tags": []
          },
          "execution_count": 30
        }
      ]
    },
    {
      "cell_type": "code",
      "metadata": {
        "id": "iZv5qNyuVDL9",
        "colab": {
          "base_uri": "https://localhost:8080/",
          "height": 0
        },
        "outputId": "dc685886-c574-4783-e0e1-c32b1b7391ad"
      },
      "source": [
        "# Checking for independence between features, multicollinearity\r\n",
        "sns.heatmap(titanic_dmy.corr())\r\n"
      ],
      "execution_count": 31,
      "outputs": [
        {
          "output_type": "execute_result",
          "data": {
            "text/plain": [
              "<matplotlib.axes._subplots.AxesSubplot at 0x7ff3395be810>"
            ]
          },
          "metadata": {
            "tags": []
          },
          "execution_count": 31
        },
        {
          "output_type": "display_data",
          "data": {
            "image/png": "[encoded data removed]",
            "text/plain": [
              "<Figure size 720x576 with 2 Axes>"
            ]
          },
          "metadata": {
            "tags": [],
            "needs_background": "light"
          }
        }
      ]
    },
    {
      "cell_type": "code",
      "metadata": {
        "colab": {
          "base_uri": "https://localhost:8080/",
          "height": 0
        },
        "id": "Sikqaz2lqs9f",
        "outputId": "fef950b5-20ef-4029-d4d3-da1bb7b19efc"
      },
      "source": [
        "# Dropping fare and pclass (correlated)\r\n",
        "titanic_dmy.drop(['Fare','Pclass'], axis=1, inplace=True)\r\n",
        "titanic_dmy.head()"
      ],
      "execution_count": 32,
      "outputs": [
        {
          "output_type": "execute_result",
          "data": {
            "text/html": [
              "<div>\n",
              "<style scoped>\n",
              "    .dataframe tbody tr th:only-of-type {\n",
              "        vertical-align: middle;\n",
              "    }\n",
              "\n",
              "    .dataframe tbody tr th {\n",
              "        vertical-align: top;\n",
              "    }\n",
              "\n",
              "    .dataframe thead th {\n",
              "        text-align: right;\n",
              "    }\n",
              "</style>\n",
              "<table border=\"1\" class=\"dataframe\">\n",
              "  <thead>\n",
              "    <tr style=\"text-align: right;\">\n",
              "      <th></th>\n",
              "      <th>passengerID</th>\n",
              "      <th>Survived</th>\n",
              "      <th>Age</th>\n",
              "      <th>SibSp</th>\n",
              "      <th>Parch</th>\n",
              "      <th>male_gender</th>\n",
              "      <th>C</th>\n",
              "      <th>Q</th>\n",
              "      <th>S</th>\n",
              "    </tr>\n",
              "  </thead>\n",
              "  <tbody>\n",
              "    <tr>\n",
              "      <th>0</th>\n",
              "      <td>1.0</td>\n",
              "      <td>0.0</td>\n",
              "      <td>22.0</td>\n",
              "      <td>1.0</td>\n",
              "      <td>0.0</td>\n",
              "      <td>1.0</td>\n",
              "      <td>0.0</td>\n",
              "      <td>0.0</td>\n",
              "      <td>1.0</td>\n",
              "    </tr>\n",
              "    <tr>\n",
              "      <th>1</th>\n",
              "      <td>2.0</td>\n",
              "      <td>1.0</td>\n",
              "      <td>38.0</td>\n",
              "      <td>1.0</td>\n",
              "      <td>0.0</td>\n",
              "      <td>0.0</td>\n",
              "      <td>1.0</td>\n",
              "      <td>0.0</td>\n",
              "      <td>0.0</td>\n",
              "    </tr>\n",
              "    <tr>\n",
              "      <th>2</th>\n",
              "      <td>3.0</td>\n",
              "      <td>1.0</td>\n",
              "      <td>26.0</td>\n",
              "      <td>0.0</td>\n",
              "      <td>0.0</td>\n",
              "      <td>0.0</td>\n",
              "      <td>0.0</td>\n",
              "      <td>0.0</td>\n",
              "      <td>1.0</td>\n",
              "    </tr>\n",
              "    <tr>\n",
              "      <th>3</th>\n",
              "      <td>4.0</td>\n",
              "      <td>1.0</td>\n",
              "      <td>35.0</td>\n",
              "      <td>1.0</td>\n",
              "      <td>0.0</td>\n",
              "      <td>0.0</td>\n",
              "      <td>0.0</td>\n",
              "      <td>0.0</td>\n",
              "      <td>1.0</td>\n",
              "    </tr>\n",
              "    <tr>\n",
              "      <th>4</th>\n",
              "      <td>5.0</td>\n",
              "      <td>0.0</td>\n",
              "      <td>35.0</td>\n",
              "      <td>0.0</td>\n",
              "      <td>0.0</td>\n",
              "      <td>1.0</td>\n",
              "      <td>0.0</td>\n",
              "      <td>0.0</td>\n",
              "      <td>1.0</td>\n",
              "    </tr>\n",
              "  </tbody>\n",
              "</table>\n",
              "</div>"
            ],
            "text/plain": [
              "   passengerID  Survived   Age  SibSp  Parch  male_gender    C    Q    S\n",
              "0          1.0       0.0  22.0    1.0    0.0          1.0  0.0  0.0  1.0\n",
              "1          2.0       1.0  38.0    1.0    0.0          0.0  1.0  0.0  0.0\n",
              "2          3.0       1.0  26.0    0.0    0.0          0.0  0.0  0.0  1.0\n",
              "3          4.0       1.0  35.0    1.0    0.0          0.0  0.0  0.0  1.0\n",
              "4          5.0       0.0  35.0    0.0    0.0          1.0  0.0  0.0  1.0"
            ]
          },
          "metadata": {
            "tags": []
          },
          "execution_count": 32
        }
      ]
    },
    {
      "cell_type": "code",
      "metadata": {
        "id": "TNfUHvWFrF_w"
      },
      "source": [
        "# Preparing test and training data\r\n",
        "X_train, X_test, y_train, y_test = train_test_split(titanic_dmy.drop('Survived', axis=1),\r\n",
        "                                                    titanic_dmy['Survived'], test_size=0.2,\r\n",
        "                                                    random_state=200)"
      ],
      "execution_count": 33,
      "outputs": []
    },
    {
      "cell_type": "code",
      "metadata": {
        "colab": {
          "base_uri": "https://localhost:8080/"
        },
        "id": "dRmlWPrxsHf7",
        "outputId": "79b08a21-8874-44d7-a9f6-79828f4d4a63"
      },
      "source": [
        "# Logistic Regression\r\n",
        "LogReg = LogisticRegression(solver='liblinear')\r\n",
        "LogReg.fit(X_train, y_train)"
      ],
      "execution_count": 34,
      "outputs": [
        {
          "output_type": "execute_result",
          "data": {
            "text/plain": [
              "LogisticRegression(C=1.0, class_weight=None, dual=False, fit_intercept=True,\n",
              "                   intercept_scaling=1, l1_ratio=None, max_iter=100,\n",
              "                   multi_class='auto', n_jobs=None, penalty='l2',\n",
              "                   random_state=None, solver='liblinear', tol=0.0001, verbose=0,\n",
              "                   warm_start=False)"
            ]
          },
          "metadata": {
            "tags": []
          },
          "execution_count": 34
        }
      ]
    },
    {
      "cell_type": "code",
      "metadata": {
        "id": "T_RnAbuMsHdj"
      },
      "source": [
        "# Making Training Prediction\r\n",
        "y_pred = LogReg.predict(X_test)"
      ],
      "execution_count": 35,
      "outputs": []
    },
    {
      "cell_type": "code",
      "metadata": {
        "colab": {
          "base_uri": "https://localhost:8080/"
        },
        "id": "Kru9YpU0sHad",
        "outputId": "068e5ed7-aeb6-42b1-dd5c-a04566f8962f"
      },
      "source": [
        "# Model Evaluation\r\n",
        "# Classification Report\r\n",
        "print(classification_report(y_test, y_pred))"
      ],
      "execution_count": 36,
      "outputs": [
        {
          "output_type": "stream",
          "text": [
            "              precision    recall  f1-score   support\n",
            "\n",
            "         0.0       0.83      0.88      0.85       109\n",
            "         1.0       0.79      0.71      0.75        69\n",
            "\n",
            "    accuracy                           0.81       178\n",
            "   macro avg       0.81      0.80      0.80       178\n",
            "weighted avg       0.81      0.81      0.81       178\n",
            "\n"
          ],
          "name": "stdout"
        }
      ]
    },
    {
      "cell_type": "code",
      "metadata": {
        "colab": {
          "base_uri": "https://localhost:8080/"
        },
        "id": "VS3lGALVsHY1",
        "outputId": "df7857b1-7d46-4fa2-9d71-2703ef1adce0"
      },
      "source": [
        "# Cross-Validation & Confusion Matrix\r\n",
        "y_train_pred = cross_val_predict(LogReg, X_train, y_train, cv=5)\r\n",
        "confusion_matrix(y_train, y_train_pred)"
      ],
      "execution_count": 37,
      "outputs": [
        {
          "output_type": "execute_result",
          "data": {
            "text/plain": [
              "array([[377,  63],\n",
              "       [ 91, 180]])"
            ]
          },
          "metadata": {
            "tags": []
          },
          "execution_count": 37
        }
      ]
    },
    {
      "cell_type": "code",
      "metadata": {
        "colab": {
          "base_uri": "https://localhost:8080/"
        },
        "id": "LNWWhZCosHWu",
        "outputId": "45426f56-602b-41fe-bdc5-2066a083c63d"
      },
      "source": [
        "precision_score(y_train, y_train_pred)"
      ],
      "execution_count": 38,
      "outputs": [
        {
          "output_type": "execute_result",
          "data": {
            "text/plain": [
              "0.7407407407407407"
            ]
          },
          "metadata": {
            "tags": []
          },
          "execution_count": 38
        }
      ]
    },
    {
      "cell_type": "code",
      "metadata": {
        "colab": {
          "base_uri": "https://localhost:8080/"
        },
        "id": "M-0mYf6IsHUb",
        "outputId": "55433e95-2bcf-45ea-e14f-c7d5712d1fcb"
      },
      "source": [
        "# Making Test Prediction\r\n",
        "test_passenger = np.array([866,40,0,0,0,0,0,1]).reshape(1,-1)\r\n",
        "\r\n",
        "print(LogReg.predict(test_passenger))"
      ],
      "execution_count": 39,
      "outputs": [
        {
          "output_type": "stream",
          "text": [
            "[1.]\n"
          ],
          "name": "stdout"
        }
      ]
    },
    {
      "cell_type": "code",
      "metadata": {
        "id": "hYxxqik2sHQ0"
      },
      "source": [
        ""
      ],
      "execution_count": 39,
      "outputs": []
    },
    {
      "cell_type": "code",
      "metadata": {
        "id": "6v5s9DAesHOW"
      },
      "source": [
        ""
      ],
      "execution_count": 39,
      "outputs": []
    },
    {
      "cell_type": "code",
      "metadata": {
        "id": "7V1POJ_YsHL4"
      },
      "source": [
        ""
      ],
      "execution_count": 39,
      "outputs": []
    },
    {
      "cell_type": "code",
      "metadata": {
        "id": "8yOq6nC9sHBU"
      },
      "source": [
        ""
      ],
      "execution_count": 39,
      "outputs": []
    },
    {
      "cell_type": "markdown",
      "metadata": {
        "id": "CvH-a8GmNDSh"
      },
      "source": [
        "## CLUSTERING MODELS, K-MEANS, HIERARCHICAL"
      ]
    },
    {
      "cell_type": "code",
      "metadata": {
        "id": "Jhrv7raEM6pF"
      },
      "source": [
        "import numpy as np\r\n",
        "import pandas as pd\r\n",
        "\r\n",
        "import matplotlib.pyplot as plt\r\n",
        "import seaborn as sns\r\n",
        "\r\n",
        "import sklearn\r\n",
        "from sklearn.preprocessing import scale\r\n",
        "import sklearn.metrics as sm\r\n",
        "from sklearn.metrics import confusion_matrix, classification_report\r\n",
        "\r\n",
        "from sklearn.cluster import KMeans\r\n",
        "from sklearn.cluster import AgglomerativeClustering\r\n",
        "from mpl_toolkits.mplot3d import Axes3D\r\n",
        "from sklearn import datasets"
      ],
      "execution_count": 40,
      "outputs": []
    },
    {
      "cell_type": "code",
      "metadata": {
        "colab": {
          "base_uri": "https://localhost:8080/"
        },
        "id": "gWdAsfalOisY",
        "outputId": "006e3cc0-0f83-4e33-afcd-8ee6c99f69a4"
      },
      "source": [
        "# Importing iris dataset\r\n",
        "iris = datasets.load_iris()\r\n",
        "\r\n",
        "# Scaling parameters\r\n",
        "X = scale(iris.data)\r\n",
        "y = pd.DataFrame(iris.target)\r\n",
        "variable_names = iris.feature_names\r\n",
        "X[0:10]"
      ],
      "execution_count": 41,
      "outputs": [
        {
          "output_type": "execute_result",
          "data": {
            "text/plain": [
              "array([[-0.90068117,  1.01900435, -1.34022653, -1.3154443 ],\n",
              "       [-1.14301691, -0.13197948, -1.34022653, -1.3154443 ],\n",
              "       [-1.38535265,  0.32841405, -1.39706395, -1.3154443 ],\n",
              "       [-1.50652052,  0.09821729, -1.2833891 , -1.3154443 ],\n",
              "       [-1.02184904,  1.24920112, -1.34022653, -1.3154443 ],\n",
              "       [-0.53717756,  1.93979142, -1.16971425, -1.05217993],\n",
              "       [-1.50652052,  0.78880759, -1.34022653, -1.18381211],\n",
              "       [-1.02184904,  0.78880759, -1.2833891 , -1.3154443 ],\n",
              "       [-1.74885626, -0.36217625, -1.34022653, -1.3154443 ],\n",
              "       [-1.14301691,  0.09821729, -1.2833891 , -1.44707648]])"
            ]
          },
          "metadata": {
            "tags": []
          },
          "execution_count": 41
        }
      ]
    },
    {
      "cell_type": "code",
      "metadata": {
        "id": "zesndyvEOjI6",
        "colab": {
          "base_uri": "https://localhost:8080/"
        },
        "outputId": "e45294bd-d4e5-4783-8a09-91bda06f0468"
      },
      "source": [
        "# Initializing cluster\r\n",
        "clustering = KMeans(n_clusters=3, random_state=5)\r\n",
        "\r\n",
        "clustering.fit(X)"
      ],
      "execution_count": 42,
      "outputs": [
        {
          "output_type": "execute_result",
          "data": {
            "text/plain": [
              "KMeans(algorithm='auto', copy_x=True, init='k-means++', max_iter=300,\n",
              "       n_clusters=3, n_init=10, n_jobs=None, precompute_distances='auto',\n",
              "       random_state=5, tol=0.0001, verbose=0)"
            ]
          },
          "metadata": {
            "tags": []
          },
          "execution_count": 42
        }
      ]
    },
    {
      "cell_type": "code",
      "metadata": {
        "id": "8FBDVutQOjGL"
      },
      "source": [
        "# Plotting model\r\n",
        "\r\n",
        "iris_df = pd.DataFrame(iris.data)\r\n",
        "iris_df.columns = ['Sepal_Length','Sepal_Width', 'Petal_Length', 'Petal_Width']\r\n",
        "y.columns = ['Target']"
      ],
      "execution_count": 43,
      "outputs": []
    },
    {
      "cell_type": "code",
      "metadata": {
        "id": "bY1xj6NwOjDx",
        "colab": {
          "base_uri": "https://localhost:8080/",
          "height": 0
        },
        "outputId": "05f205d7-9d07-4d69-b670-1c3d5e93eadf"
      },
      "source": [
        "color_theme = np.array(['darkgrey', 'lightsalmon','powderblue'])\r\n",
        "\r\n",
        "plt.subplot(1,2,1)\r\n",
        "\r\n",
        "plt.scatter(iris_df.Petal_Length, iris_df.Petal_Width, c= color_theme[iris.target], s=50)\r\n",
        "plt.title('Ground Truth Classification')\r\n",
        "\r\n",
        "plt.subplot(1,2,2)\r\n",
        "\r\n",
        "plt.scatter(iris_df.Petal_Length, iris_df.Petal_Width, c= color_theme[clustering.labels_], s=50)\r\n",
        "plt.title('K-Means Classification')"
      ],
      "execution_count": 44,
      "outputs": [
        {
          "output_type": "execute_result",
          "data": {
            "text/plain": [
              "Text(0.5, 1.0, 'K-Means Classification')"
            ]
          },
          "metadata": {
            "tags": []
          },
          "execution_count": 44
        },
        {
          "output_type": "display_data",
          "data": {
            "image/png": "[encoded data removed]",
            "text/plain": [
              "<Figure size 720x576 with 2 Axes>"
            ]
          },
          "metadata": {
            "tags": [],
            "needs_background": "light"
          }
        }
      ]
    },
    {
      "cell_type": "code",
      "metadata": {
        "id": "fmgS-cm2OjB6"
      },
      "source": [
        "#### Hierarchical Methods\r\n",
        "\r\n",
        "from scipy.cluster.hierarchy import dendrogram, linkage\r\n",
        "from scipy.cluster.hierarchy import fcluster\r\n",
        "from scipy.cluster.hierarchy import cophenet\r\n",
        "from scipy.spatial.distance import pdist\r\n"
      ],
      "execution_count": 45,
      "outputs": []
    },
    {
      "cell_type": "code",
      "metadata": {
        "id": "rAH66fhSOi-n"
      },
      "source": [
        "cars = pd.read_csv('/content/sample_data/mtcars.csv')\r\n",
        "\r\n",
        "cars.columns = ['car_names','mpg','cyl','disp','hp','drat','wt','qsec','vs','am','gear','carb']\r\n",
        "\r\n",
        "X = cars[['mpg','disp','hp','wt']].values\r\n",
        "\r\n",
        "y = cars['am'].values"
      ],
      "execution_count": 46,
      "outputs": []
    },
    {
      "cell_type": "code",
      "metadata": {
        "id": "EDetgWoBOi8P"
      },
      "source": [
        "# Generating dendrograms\r\n",
        "Z = linkage(X, 'ward')"
      ],
      "execution_count": 47,
      "outputs": []
    },
    {
      "cell_type": "code",
      "metadata": {
        "id": "1C81BKnTOixI",
        "colab": {
          "base_uri": "https://localhost:8080/",
          "height": 0
        },
        "outputId": "9a129841-2b99-407b-d8a6-0402147f2b91"
      },
      "source": [
        "dendrogram(Z, truncate_mode='lastp', p=12, leaf_rotation=45, leaf_font_size=15, show_contracted=True)\r\n",
        "\r\n",
        "plt.title('Truncated Hierarchical Clustering Diagram')\r\n",
        "plt.xlabel('Cluster Size')\r\n",
        "plt.ylabel('Distance')\r\n",
        "\r\n",
        "plt.axhline(y=500)\r\n",
        "plt.axhline(y=150)\r\n",
        "plt.show()"
      ],
      "execution_count": 48,
      "outputs": [
        {
          "output_type": "display_data",
          "data": {
            "image/png": "[encoded data removed]",
            "text/plain": [
              "<Figure size 720x576 with 1 Axes>"
            ]
          },
          "metadata": {
            "tags": [],
            "needs_background": "light"
          }
        }
      ]
    },
    {
      "cell_type": "code",
      "metadata": {
        "colab": {
          "base_uri": "https://localhost:8080/"
        },
        "id": "_bGrVnoUQMC9",
        "outputId": "90d6e6b5-a222-4f8e-c100-ddad5c406fcd"
      },
      "source": [
        "### Generating hierarchical Clusters\r\n",
        "k = 2\r\n",
        "\r\n",
        "Hclustering = AgglomerativeClustering(n_clusters=k, affinity='euclidean', linkage='ward')\r\n",
        "Hclustering.fit(X)\r\n",
        "\r\n",
        "sm.accuracy_score(y, Hclustering.labels_)"
      ],
      "execution_count": 49,
      "outputs": [
        {
          "output_type": "execute_result",
          "data": {
            "text/plain": [
              "0.78125"
            ]
          },
          "metadata": {
            "tags": []
          },
          "execution_count": 49
        }
      ]
    },
    {
      "cell_type": "code",
      "metadata": {
        "colab": {
          "base_uri": "https://localhost:8080/"
        },
        "id": "nT4VqlDmQ4BZ",
        "outputId": "f28c1df5-8f4b-4df8-e2c6-e5fa28b353e4"
      },
      "source": [
        "# Trying different combinations\r\n",
        "Hclustering = AgglomerativeClustering(n_clusters=k, affinity='euclidean', linkage='average')     #Changing affinity and linkage\r\n",
        "Hclustering.fit(X)\r\n",
        "\r\n",
        "sm.accuracy_score(y, Hclustering.labels_)"
      ],
      "execution_count": 50,
      "outputs": [
        {
          "output_type": "execute_result",
          "data": {
            "text/plain": [
              "0.78125"
            ]
          },
          "metadata": {
            "tags": []
          },
          "execution_count": 50
        }
      ]
    },
    {
      "cell_type": "code",
      "metadata": {
        "colab": {
          "base_uri": "https://localhost:8080/"
        },
        "id": "hlbrr1exQ9j8",
        "outputId": "9d52bebd-ea64-45bd-9a2c-9d06d7ec93c9"
      },
      "source": [
        "Hclustering = AgglomerativeClustering(n_clusters=k, affinity='manhattan', linkage='average')\r\n",
        "Hclustering.fit(X)\r\n",
        "\r\n",
        "sm.accuracy_score(y, Hclustering.labels_)"
      ],
      "execution_count": 51,
      "outputs": [
        {
          "output_type": "execute_result",
          "data": {
            "text/plain": [
              "0.71875"
            ]
          },
          "metadata": {
            "tags": []
          },
          "execution_count": 51
        }
      ]
    },
    {
      "cell_type": "markdown",
      "metadata": {
        "id": "5rE1_zjjSut2"
      },
      "source": [
        "## DIMENSION REDUCTION METHODS. FACTOR ANALYSIS"
      ]
    },
    {
      "cell_type": "code",
      "metadata": {
        "id": "zlMncjKRSyg-"
      },
      "source": [
        "from sklearn.decomposition import FactorAnalysis\r\n",
        "from sklearn import datasets"
      ],
      "execution_count": 52,
      "outputs": []
    },
    {
      "cell_type": "code",
      "metadata": {
        "colab": {
          "base_uri": "https://localhost:8080/"
        },
        "id": "tb0LjnEpS012",
        "outputId": "effdc720-2d95-44d9-879d-1d0474725ed3"
      },
      "source": [
        "iris = datasets.load_iris()\r\n",
        "\r\n",
        "X = iris.data\r\n",
        "variable_names = iris.feature_names\r\n",
        "\r\n",
        "X[0:10]"
      ],
      "execution_count": 53,
      "outputs": [
        {
          "output_type": "execute_result",
          "data": {
            "text/plain": [
              "array([[5.1, 3.5, 1.4, 0.2],\n",
              "       [4.9, 3. , 1.4, 0.2],\n",
              "       [4.7, 3.2, 1.3, 0.2],\n",
              "       [4.6, 3.1, 1.5, 0.2],\n",
              "       [5. , 3.6, 1.4, 0.2],\n",
              "       [5.4, 3.9, 1.7, 0.4],\n",
              "       [4.6, 3.4, 1.4, 0.3],\n",
              "       [5. , 3.4, 1.5, 0.2],\n",
              "       [4.4, 2.9, 1.4, 0.2],\n",
              "       [4.9, 3.1, 1.5, 0.1]])"
            ]
          },
          "metadata": {
            "tags": []
          },
          "execution_count": 53
        }
      ]
    },
    {
      "cell_type": "code",
      "metadata": {
        "colab": {
          "base_uri": "https://localhost:8080/"
        },
        "id": "vcbjKitzS0tu",
        "outputId": "48946128-1509-4262-fd9d-e720ee177841"
      },
      "source": [
        "# Running Factor Analysis\r\n",
        "factor = FactorAnalysis().fit(X)\r\n",
        "\r\n",
        "DF = pd.DataFrame(factor.components_, columns=variable_names)\r\n",
        "print(DF)"
      ],
      "execution_count": 54,
      "outputs": [
        {
          "output_type": "stream",
          "text": [
            "   sepal length (cm)  sepal width (cm)  petal length (cm)  petal width (cm)\n",
            "0           0.706989         -0.158005           1.654236           0.70085\n",
            "1           0.115161          0.159635          -0.044321          -0.01403\n",
            "2          -0.000000          0.000000           0.000000           0.00000\n",
            "3          -0.000000          0.000000           0.000000          -0.00000\n"
          ],
          "name": "stdout"
        }
      ]
    },
    {
      "cell_type": "code",
      "metadata": {
        "id": "oBxBqxoBS0ph"
      },
      "source": [
        "# Principal Component Analysis (PCA)\r\n",
        "from sklearn import decomposition\r\n",
        "from sklearn.decomposition import PCA"
      ],
      "execution_count": 55,
      "outputs": []
    },
    {
      "cell_type": "code",
      "metadata": {
        "colab": {
          "base_uri": "https://localhost:8080/"
        },
        "id": "U9hCi3MAS0nf",
        "outputId": "1418aae5-5376-4686-8023-b7a5da2ca7e6"
      },
      "source": [
        "X = iris.data\r\n",
        "variable_names = iris.feature_names\r\n",
        "\r\n",
        "X[0:10]"
      ],
      "execution_count": 56,
      "outputs": [
        {
          "output_type": "execute_result",
          "data": {
            "text/plain": [
              "array([[5.1, 3.5, 1.4, 0.2],\n",
              "       [4.9, 3. , 1.4, 0.2],\n",
              "       [4.7, 3.2, 1.3, 0.2],\n",
              "       [4.6, 3.1, 1.5, 0.2],\n",
              "       [5. , 3.6, 1.4, 0.2],\n",
              "       [5.4, 3.9, 1.7, 0.4],\n",
              "       [4.6, 3.4, 1.4, 0.3],\n",
              "       [5. , 3.4, 1.5, 0.2],\n",
              "       [4.4, 2.9, 1.4, 0.2],\n",
              "       [4.9, 3.1, 1.5, 0.1]])"
            ]
          },
          "metadata": {
            "tags": []
          },
          "execution_count": 56
        }
      ]
    },
    {
      "cell_type": "code",
      "metadata": {
        "colab": {
          "base_uri": "https://localhost:8080/"
        },
        "id": "uK8XeWTnS0mE",
        "outputId": "92c63bc7-49a8-443b-876d-4b306f988aee"
      },
      "source": [
        "pca = decomposition.PCA()\r\n",
        "iris_pca = pca.fit_transform(X)\r\n",
        "\r\n",
        "pca.explained_variance_ratio_"
      ],
      "execution_count": 57,
      "outputs": [
        {
          "output_type": "execute_result",
          "data": {
            "text/plain": [
              "array([0.92461872, 0.05306648, 0.01710261, 0.00521218])"
            ]
          },
          "metadata": {
            "tags": []
          },
          "execution_count": 57
        }
      ]
    },
    {
      "cell_type": "code",
      "metadata": {
        "colab": {
          "base_uri": "https://localhost:8080/"
        },
        "id": "NFxrPaFES0j3",
        "outputId": "f4560e25-983c-4e9d-eca3-26b523fa43d9"
      },
      "source": [
        "sum(pca.explained_variance_ratio_)"
      ],
      "execution_count": 58,
      "outputs": [
        {
          "output_type": "execute_result",
          "data": {
            "text/plain": [
              "1.0"
            ]
          },
          "metadata": {
            "tags": []
          },
          "execution_count": 58
        }
      ]
    },
    {
      "cell_type": "code",
      "metadata": {
        "colab": {
          "base_uri": "https://localhost:8080/",
          "height": 0
        },
        "id": "x7JxzEXGS0il",
        "outputId": "9327e8b8-8757-4543-bc82-13d53ab7384a"
      },
      "source": [
        "## I'll keep only first two components (97% variance)\r\n",
        "comps = pd.DataFrame(pca.components_, columns=variable_names)\r\n",
        "comps"
      ],
      "execution_count": 59,
      "outputs": [
        {
          "output_type": "execute_result",
          "data": {
            "text/html": [
              "<div>\n",
              "<style scoped>\n",
              "    .dataframe tbody tr th:only-of-type {\n",
              "        vertical-align: middle;\n",
              "    }\n",
              "\n",
              "    .dataframe tbody tr th {\n",
              "        vertical-align: top;\n",
              "    }\n",
              "\n",
              "    .dataframe thead th {\n",
              "        text-align: right;\n",
              "    }\n",
              "</style>\n",
              "<table border=\"1\" class=\"dataframe\">\n",
              "  <thead>\n",
              "    <tr style=\"text-align: right;\">\n",
              "      <th></th>\n",
              "      <th>sepal length (cm)</th>\n",
              "      <th>sepal width (cm)</th>\n",
              "      <th>petal length (cm)</th>\n",
              "      <th>petal width (cm)</th>\n",
              "    </tr>\n",
              "  </thead>\n",
              "  <tbody>\n",
              "    <tr>\n",
              "      <th>0</th>\n",
              "      <td>0.361387</td>\n",
              "      <td>-0.084523</td>\n",
              "      <td>0.856671</td>\n",
              "      <td>0.358289</td>\n",
              "    </tr>\n",
              "    <tr>\n",
              "      <th>1</th>\n",
              "      <td>0.656589</td>\n",
              "      <td>0.730161</td>\n",
              "      <td>-0.173373</td>\n",
              "      <td>-0.075481</td>\n",
              "    </tr>\n",
              "    <tr>\n",
              "      <th>2</th>\n",
              "      <td>-0.582030</td>\n",
              "      <td>0.597911</td>\n",
              "      <td>0.076236</td>\n",
              "      <td>0.545831</td>\n",
              "    </tr>\n",
              "    <tr>\n",
              "      <th>3</th>\n",
              "      <td>-0.315487</td>\n",
              "      <td>0.319723</td>\n",
              "      <td>0.479839</td>\n",
              "      <td>-0.753657</td>\n",
              "    </tr>\n",
              "  </tbody>\n",
              "</table>\n",
              "</div>"
            ],
            "text/plain": [
              "   sepal length (cm)  sepal width (cm)  petal length (cm)  petal width (cm)\n",
              "0           0.361387         -0.084523           0.856671          0.358289\n",
              "1           0.656589          0.730161          -0.173373         -0.075481\n",
              "2          -0.582030          0.597911           0.076236          0.545831\n",
              "3          -0.315487          0.319723           0.479839         -0.753657"
            ]
          },
          "metadata": {
            "tags": []
          },
          "execution_count": 59
        }
      ]
    },
    {
      "cell_type": "code",
      "metadata": {
        "colab": {
          "base_uri": "https://localhost:8080/",
          "height": 0
        },
        "id": "OamgeSfIS0gm",
        "outputId": "2c18132a-cb34-4245-92f8-3e6aeb06f513"
      },
      "source": [
        "sns.heatmap(comps, cmap='Blues', annot=True)"
      ],
      "execution_count": 60,
      "outputs": [
        {
          "output_type": "execute_result",
          "data": {
            "text/plain": [
              "<matplotlib.axes._subplots.AxesSubplot at 0x7ff335375250>"
            ]
          },
          "metadata": {
            "tags": []
          },
          "execution_count": 60
        },
        {
          "output_type": "display_data",
          "data": {
            "image/png": "[encoded data removed]",
            "text/plain": [
              "<Figure size 720x576 with 2 Axes>"
            ]
          },
          "metadata": {
            "tags": [],
            "needs_background": "light"
          }
        }
      ]
    },
    {
      "cell_type": "markdown",
      "metadata": {
        "id": "8Wgg-Qa9fAbb"
      },
      "source": [
        "## ASSOCIATION RULES"
      ]
    },
    {
      "cell_type": "code",
      "metadata": {
        "id": "RvNZgWVUfEFr"
      },
      "source": [
        "## Apriori\r\n",
        "\r\n",
        "from mlxtend.frequent_patterns import apriori\r\n",
        "from mlxtend.frequent_patterns import association_rules"
      ],
      "execution_count": 61,
      "outputs": []
    },
    {
      "cell_type": "code",
      "metadata": {
        "colab": {
          "base_uri": "https://localhost:8080/",
          "height": 0
        },
        "id": "JDHwj8gnsQbs",
        "outputId": "2694f719-35e7-4b5a-970a-22d2c5f8e075"
      },
      "source": [
        "data = pd.read_csv('/content/sample_data/groceries.csv')\r\n",
        "data.head()"
      ],
      "execution_count": 62,
      "outputs": [
        {
          "output_type": "execute_result",
          "data": {
            "text/html": [
              "<div>\n",
              "<style scoped>\n",
              "    .dataframe tbody tr th:only-of-type {\n",
              "        vertical-align: middle;\n",
              "    }\n",
              "\n",
              "    .dataframe tbody tr th {\n",
              "        vertical-align: top;\n",
              "    }\n",
              "\n",
              "    .dataframe thead th {\n",
              "        text-align: right;\n",
              "    }\n",
              "</style>\n",
              "<table border=\"1\" class=\"dataframe\">\n",
              "  <thead>\n",
              "    <tr style=\"text-align: right;\">\n",
              "      <th></th>\n",
              "      <th>1</th>\n",
              "      <th>2</th>\n",
              "      <th>3</th>\n",
              "      <th>4</th>\n",
              "      <th>5</th>\n",
              "      <th>6</th>\n",
              "      <th>7</th>\n",
              "      <th>8</th>\n",
              "      <th>9</th>\n",
              "    </tr>\n",
              "  </thead>\n",
              "  <tbody>\n",
              "    <tr>\n",
              "      <th>0</th>\n",
              "      <td>citrus fruit</td>\n",
              "      <td>semi-finished bread</td>\n",
              "      <td>margarine</td>\n",
              "      <td>ready soups</td>\n",
              "      <td>NaN</td>\n",
              "      <td>NaN</td>\n",
              "      <td>NaN</td>\n",
              "      <td>NaN</td>\n",
              "      <td>NaN</td>\n",
              "    </tr>\n",
              "    <tr>\n",
              "      <th>1</th>\n",
              "      <td>tropical fruit</td>\n",
              "      <td>yogurt</td>\n",
              "      <td>coffee</td>\n",
              "      <td>NaN</td>\n",
              "      <td>NaN</td>\n",
              "      <td>NaN</td>\n",
              "      <td>NaN</td>\n",
              "      <td>NaN</td>\n",
              "      <td>NaN</td>\n",
              "    </tr>\n",
              "    <tr>\n",
              "      <th>2</th>\n",
              "      <td>whole milk</td>\n",
              "      <td>NaN</td>\n",
              "      <td>NaN</td>\n",
              "      <td>NaN</td>\n",
              "      <td>NaN</td>\n",
              "      <td>NaN</td>\n",
              "      <td>NaN</td>\n",
              "      <td>NaN</td>\n",
              "      <td>NaN</td>\n",
              "    </tr>\n",
              "    <tr>\n",
              "      <th>3</th>\n",
              "      <td>pip fruit</td>\n",
              "      <td>yogurt</td>\n",
              "      <td>cream cheese</td>\n",
              "      <td>meat spreads</td>\n",
              "      <td>NaN</td>\n",
              "      <td>NaN</td>\n",
              "      <td>NaN</td>\n",
              "      <td>NaN</td>\n",
              "      <td>NaN</td>\n",
              "    </tr>\n",
              "    <tr>\n",
              "      <th>4</th>\n",
              "      <td>other vegetables</td>\n",
              "      <td>whole milk</td>\n",
              "      <td>condensed milk</td>\n",
              "      <td>long life bakery product</td>\n",
              "      <td>NaN</td>\n",
              "      <td>NaN</td>\n",
              "      <td>NaN</td>\n",
              "      <td>NaN</td>\n",
              "      <td>NaN</td>\n",
              "    </tr>\n",
              "  </tbody>\n",
              "</table>\n",
              "</div>"
            ],
            "text/plain": [
              "                  1                    2               3  ...    7    8    9\n",
              "0      citrus fruit  semi-finished bread       margarine  ...  NaN  NaN  NaN\n",
              "1    tropical fruit               yogurt          coffee  ...  NaN  NaN  NaN\n",
              "2        whole milk                  NaN             NaN  ...  NaN  NaN  NaN\n",
              "3         pip fruit               yogurt   cream cheese   ...  NaN  NaN  NaN\n",
              "4  other vegetables           whole milk  condensed milk  ...  NaN  NaN  NaN\n",
              "\n",
              "[5 rows x 9 columns]"
            ]
          },
          "metadata": {
            "tags": []
          },
          "execution_count": 62
        }
      ]
    },
    {
      "cell_type": "code",
      "metadata": {
        "colab": {
          "base_uri": "https://localhost:8080/",
          "height": 0
        },
        "id": "yNfJakJ7sQYO",
        "outputId": "fa71b860-43a1-4d50-c8cc-d097a98cf861"
      },
      "source": [
        "# Data Conversion\r\n",
        "basket_sets = pd.get_dummies(data)\r\n",
        "basket_sets.head()"
      ],
      "execution_count": 63,
      "outputs": [
        {
          "output_type": "execute_result",
          "data": {
            "text/html": [
              "<div>\n",
              "<style scoped>\n",
              "    .dataframe tbody tr th:only-of-type {\n",
              "        vertical-align: middle;\n",
              "    }\n",
              "\n",
              "    .dataframe tbody tr th {\n",
              "        vertical-align: top;\n",
              "    }\n",
              "\n",
              "    .dataframe thead th {\n",
              "        text-align: right;\n",
              "    }\n",
              "</style>\n",
              "<table border=\"1\" class=\"dataframe\">\n",
              "  <thead>\n",
              "    <tr style=\"text-align: right;\">\n",
              "      <th></th>\n",
              "      <th>1_Instant food products</th>\n",
              "      <th>1_UHT-milk</th>\n",
              "      <th>1_artif. sweetener</th>\n",
              "      <th>1_baby cosmetics</th>\n",
              "      <th>1_bags</th>\n",
              "      <th>1_baking powder</th>\n",
              "      <th>1_bathroom cleaner</th>\n",
              "      <th>1_beef</th>\n",
              "      <th>1_berries</th>\n",
              "      <th>1_beverages</th>\n",
              "      <th>1_bottled beer</th>\n",
              "      <th>1_bottled water</th>\n",
              "      <th>1_brandy</th>\n",
              "      <th>1_brown bread</th>\n",
              "      <th>1_butter</th>\n",
              "      <th>1_butter milk</th>\n",
              "      <th>1_candy</th>\n",
              "      <th>1_canned beer</th>\n",
              "      <th>1_canned fish</th>\n",
              "      <th>1_canned fruit</th>\n",
              "      <th>1_canned vegetables</th>\n",
              "      <th>1_cat food</th>\n",
              "      <th>1_chewing gum</th>\n",
              "      <th>1_chicken</th>\n",
              "      <th>1_chocolate</th>\n",
              "      <th>1_chocolate marshmallow</th>\n",
              "      <th>1_citrus fruit</th>\n",
              "      <th>1_cleaner</th>\n",
              "      <th>1_cling film/bags</th>\n",
              "      <th>1_coffee</th>\n",
              "      <th>1_condensed milk</th>\n",
              "      <th>1_cookware</th>\n",
              "      <th>1_cream cheese</th>\n",
              "      <th>1_curd</th>\n",
              "      <th>1_curd cheese</th>\n",
              "      <th>1_decalcifier</th>\n",
              "      <th>1_dental care</th>\n",
              "      <th>1_dessert</th>\n",
              "      <th>1_detergent</th>\n",
              "      <th>1_dish cleaner</th>\n",
              "      <th>...</th>\n",
              "      <th>9_pastry</th>\n",
              "      <th>9_pet care</th>\n",
              "      <th>9_photo/film</th>\n",
              "      <th>9_pickled vegetables</th>\n",
              "      <th>9_popcorn</th>\n",
              "      <th>9_pot plants</th>\n",
              "      <th>9_potato products</th>\n",
              "      <th>9_processed cheese</th>\n",
              "      <th>9_red/blush wine</th>\n",
              "      <th>9_rice</th>\n",
              "      <th>9_rolls/buns</th>\n",
              "      <th>9_root vegetables</th>\n",
              "      <th>9_rubbing alcohol</th>\n",
              "      <th>9_rum</th>\n",
              "      <th>9_salt</th>\n",
              "      <th>9_salty snack</th>\n",
              "      <th>9_sauces</th>\n",
              "      <th>9_seasonal products</th>\n",
              "      <th>9_semi-finished bread</th>\n",
              "      <th>9_shopping bags</th>\n",
              "      <th>9_skin care</th>\n",
              "      <th>9_sliced cheese</th>\n",
              "      <th>9_soda</th>\n",
              "      <th>9_soft cheese</th>\n",
              "      <th>9_sparkling wine</th>\n",
              "      <th>9_specialty bar</th>\n",
              "      <th>9_specialty cheese</th>\n",
              "      <th>9_specialty vegetables</th>\n",
              "      <th>9_spread cheese</th>\n",
              "      <th>9_sugar</th>\n",
              "      <th>9_sweet spreads</th>\n",
              "      <th>9_tea</th>\n",
              "      <th>9_vinegar</th>\n",
              "      <th>9_waffles</th>\n",
              "      <th>9_whipped/sour cream</th>\n",
              "      <th>9_white bread</th>\n",
              "      <th>9_white wine</th>\n",
              "      <th>9_whole milk</th>\n",
              "      <th>9_yogurt</th>\n",
              "      <th>9_zwieback</th>\n",
              "    </tr>\n",
              "  </thead>\n",
              "  <tbody>\n",
              "    <tr>\n",
              "      <th>0</th>\n",
              "      <td>0</td>\n",
              "      <td>0</td>\n",
              "      <td>0</td>\n",
              "      <td>0</td>\n",
              "      <td>0</td>\n",
              "      <td>0</td>\n",
              "      <td>0</td>\n",
              "      <td>0</td>\n",
              "      <td>0</td>\n",
              "      <td>0</td>\n",
              "      <td>0</td>\n",
              "      <td>0</td>\n",
              "      <td>0</td>\n",
              "      <td>0</td>\n",
              "      <td>0</td>\n",
              "      <td>0</td>\n",
              "      <td>0</td>\n",
              "      <td>0</td>\n",
              "      <td>0</td>\n",
              "      <td>0</td>\n",
              "      <td>0</td>\n",
              "      <td>0</td>\n",
              "      <td>0</td>\n",
              "      <td>0</td>\n",
              "      <td>0</td>\n",
              "      <td>0</td>\n",
              "      <td>1</td>\n",
              "      <td>0</td>\n",
              "      <td>0</td>\n",
              "      <td>0</td>\n",
              "      <td>0</td>\n",
              "      <td>0</td>\n",
              "      <td>0</td>\n",
              "      <td>0</td>\n",
              "      <td>0</td>\n",
              "      <td>0</td>\n",
              "      <td>0</td>\n",
              "      <td>0</td>\n",
              "      <td>0</td>\n",
              "      <td>0</td>\n",
              "      <td>...</td>\n",
              "      <td>0</td>\n",
              "      <td>0</td>\n",
              "      <td>0</td>\n",
              "      <td>0</td>\n",
              "      <td>0</td>\n",
              "      <td>0</td>\n",
              "      <td>0</td>\n",
              "      <td>0</td>\n",
              "      <td>0</td>\n",
              "      <td>0</td>\n",
              "      <td>0</td>\n",
              "      <td>0</td>\n",
              "      <td>0</td>\n",
              "      <td>0</td>\n",
              "      <td>0</td>\n",
              "      <td>0</td>\n",
              "      <td>0</td>\n",
              "      <td>0</td>\n",
              "      <td>0</td>\n",
              "      <td>0</td>\n",
              "      <td>0</td>\n",
              "      <td>0</td>\n",
              "      <td>0</td>\n",
              "      <td>0</td>\n",
              "      <td>0</td>\n",
              "      <td>0</td>\n",
              "      <td>0</td>\n",
              "      <td>0</td>\n",
              "      <td>0</td>\n",
              "      <td>0</td>\n",
              "      <td>0</td>\n",
              "      <td>0</td>\n",
              "      <td>0</td>\n",
              "      <td>0</td>\n",
              "      <td>0</td>\n",
              "      <td>0</td>\n",
              "      <td>0</td>\n",
              "      <td>0</td>\n",
              "      <td>0</td>\n",
              "      <td>0</td>\n",
              "    </tr>\n",
              "    <tr>\n",
              "      <th>1</th>\n",
              "      <td>0</td>\n",
              "      <td>0</td>\n",
              "      <td>0</td>\n",
              "      <td>0</td>\n",
              "      <td>0</td>\n",
              "      <td>0</td>\n",
              "      <td>0</td>\n",
              "      <td>0</td>\n",
              "      <td>0</td>\n",
              "      <td>0</td>\n",
              "      <td>0</td>\n",
              "      <td>0</td>\n",
              "      <td>0</td>\n",
              "      <td>0</td>\n",
              "      <td>0</td>\n",
              "      <td>0</td>\n",
              "      <td>0</td>\n",
              "      <td>0</td>\n",
              "      <td>0</td>\n",
              "      <td>0</td>\n",
              "      <td>0</td>\n",
              "      <td>0</td>\n",
              "      <td>0</td>\n",
              "      <td>0</td>\n",
              "      <td>0</td>\n",
              "      <td>0</td>\n",
              "      <td>0</td>\n",
              "      <td>0</td>\n",
              "      <td>0</td>\n",
              "      <td>0</td>\n",
              "      <td>0</td>\n",
              "      <td>0</td>\n",
              "      <td>0</td>\n",
              "      <td>0</td>\n",
              "      <td>0</td>\n",
              "      <td>0</td>\n",
              "      <td>0</td>\n",
              "      <td>0</td>\n",
              "      <td>0</td>\n",
              "      <td>0</td>\n",
              "      <td>...</td>\n",
              "      <td>0</td>\n",
              "      <td>0</td>\n",
              "      <td>0</td>\n",
              "      <td>0</td>\n",
              "      <td>0</td>\n",
              "      <td>0</td>\n",
              "      <td>0</td>\n",
              "      <td>0</td>\n",
              "      <td>0</td>\n",
              "      <td>0</td>\n",
              "      <td>0</td>\n",
              "      <td>0</td>\n",
              "      <td>0</td>\n",
              "      <td>0</td>\n",
              "      <td>0</td>\n",
              "      <td>0</td>\n",
              "      <td>0</td>\n",
              "      <td>0</td>\n",
              "      <td>0</td>\n",
              "      <td>0</td>\n",
              "      <td>0</td>\n",
              "      <td>0</td>\n",
              "      <td>0</td>\n",
              "      <td>0</td>\n",
              "      <td>0</td>\n",
              "      <td>0</td>\n",
              "      <td>0</td>\n",
              "      <td>0</td>\n",
              "      <td>0</td>\n",
              "      <td>0</td>\n",
              "      <td>0</td>\n",
              "      <td>0</td>\n",
              "      <td>0</td>\n",
              "      <td>0</td>\n",
              "      <td>0</td>\n",
              "      <td>0</td>\n",
              "      <td>0</td>\n",
              "      <td>0</td>\n",
              "      <td>0</td>\n",
              "      <td>0</td>\n",
              "    </tr>\n",
              "    <tr>\n",
              "      <th>2</th>\n",
              "      <td>0</td>\n",
              "      <td>0</td>\n",
              "      <td>0</td>\n",
              "      <td>0</td>\n",
              "      <td>0</td>\n",
              "      <td>0</td>\n",
              "      <td>0</td>\n",
              "      <td>0</td>\n",
              "      <td>0</td>\n",
              "      <td>0</td>\n",
              "      <td>0</td>\n",
              "      <td>0</td>\n",
              "      <td>0</td>\n",
              "      <td>0</td>\n",
              "      <td>0</td>\n",
              "      <td>0</td>\n",
              "      <td>0</td>\n",
              "      <td>0</td>\n",
              "      <td>0</td>\n",
              "      <td>0</td>\n",
              "      <td>0</td>\n",
              "      <td>0</td>\n",
              "      <td>0</td>\n",
              "      <td>0</td>\n",
              "      <td>0</td>\n",
              "      <td>0</td>\n",
              "      <td>0</td>\n",
              "      <td>0</td>\n",
              "      <td>0</td>\n",
              "      <td>0</td>\n",
              "      <td>0</td>\n",
              "      <td>0</td>\n",
              "      <td>0</td>\n",
              "      <td>0</td>\n",
              "      <td>0</td>\n",
              "      <td>0</td>\n",
              "      <td>0</td>\n",
              "      <td>0</td>\n",
              "      <td>0</td>\n",
              "      <td>0</td>\n",
              "      <td>...</td>\n",
              "      <td>0</td>\n",
              "      <td>0</td>\n",
              "      <td>0</td>\n",
              "      <td>0</td>\n",
              "      <td>0</td>\n",
              "      <td>0</td>\n",
              "      <td>0</td>\n",
              "      <td>0</td>\n",
              "      <td>0</td>\n",
              "      <td>0</td>\n",
              "      <td>0</td>\n",
              "      <td>0</td>\n",
              "      <td>0</td>\n",
              "      <td>0</td>\n",
              "      <td>0</td>\n",
              "      <td>0</td>\n",
              "      <td>0</td>\n",
              "      <td>0</td>\n",
              "      <td>0</td>\n",
              "      <td>0</td>\n",
              "      <td>0</td>\n",
              "      <td>0</td>\n",
              "      <td>0</td>\n",
              "      <td>0</td>\n",
              "      <td>0</td>\n",
              "      <td>0</td>\n",
              "      <td>0</td>\n",
              "      <td>0</td>\n",
              "      <td>0</td>\n",
              "      <td>0</td>\n",
              "      <td>0</td>\n",
              "      <td>0</td>\n",
              "      <td>0</td>\n",
              "      <td>0</td>\n",
              "      <td>0</td>\n",
              "      <td>0</td>\n",
              "      <td>0</td>\n",
              "      <td>0</td>\n",
              "      <td>0</td>\n",
              "      <td>0</td>\n",
              "    </tr>\n",
              "    <tr>\n",
              "      <th>3</th>\n",
              "      <td>0</td>\n",
              "      <td>0</td>\n",
              "      <td>0</td>\n",
              "      <td>0</td>\n",
              "      <td>0</td>\n",
              "      <td>0</td>\n",
              "      <td>0</td>\n",
              "      <td>0</td>\n",
              "      <td>0</td>\n",
              "      <td>0</td>\n",
              "      <td>0</td>\n",
              "      <td>0</td>\n",
              "      <td>0</td>\n",
              "      <td>0</td>\n",
              "      <td>0</td>\n",
              "      <td>0</td>\n",
              "      <td>0</td>\n",
              "      <td>0</td>\n",
              "      <td>0</td>\n",
              "      <td>0</td>\n",
              "      <td>0</td>\n",
              "      <td>0</td>\n",
              "      <td>0</td>\n",
              "      <td>0</td>\n",
              "      <td>0</td>\n",
              "      <td>0</td>\n",
              "      <td>0</td>\n",
              "      <td>0</td>\n",
              "      <td>0</td>\n",
              "      <td>0</td>\n",
              "      <td>0</td>\n",
              "      <td>0</td>\n",
              "      <td>0</td>\n",
              "      <td>0</td>\n",
              "      <td>0</td>\n",
              "      <td>0</td>\n",
              "      <td>0</td>\n",
              "      <td>0</td>\n",
              "      <td>0</td>\n",
              "      <td>0</td>\n",
              "      <td>...</td>\n",
              "      <td>0</td>\n",
              "      <td>0</td>\n",
              "      <td>0</td>\n",
              "      <td>0</td>\n",
              "      <td>0</td>\n",
              "      <td>0</td>\n",
              "      <td>0</td>\n",
              "      <td>0</td>\n",
              "      <td>0</td>\n",
              "      <td>0</td>\n",
              "      <td>0</td>\n",
              "      <td>0</td>\n",
              "      <td>0</td>\n",
              "      <td>0</td>\n",
              "      <td>0</td>\n",
              "      <td>0</td>\n",
              "      <td>0</td>\n",
              "      <td>0</td>\n",
              "      <td>0</td>\n",
              "      <td>0</td>\n",
              "      <td>0</td>\n",
              "      <td>0</td>\n",
              "      <td>0</td>\n",
              "      <td>0</td>\n",
              "      <td>0</td>\n",
              "      <td>0</td>\n",
              "      <td>0</td>\n",
              "      <td>0</td>\n",
              "      <td>0</td>\n",
              "      <td>0</td>\n",
              "      <td>0</td>\n",
              "      <td>0</td>\n",
              "      <td>0</td>\n",
              "      <td>0</td>\n",
              "      <td>0</td>\n",
              "      <td>0</td>\n",
              "      <td>0</td>\n",
              "      <td>0</td>\n",
              "      <td>0</td>\n",
              "      <td>0</td>\n",
              "    </tr>\n",
              "    <tr>\n",
              "      <th>4</th>\n",
              "      <td>0</td>\n",
              "      <td>0</td>\n",
              "      <td>0</td>\n",
              "      <td>0</td>\n",
              "      <td>0</td>\n",
              "      <td>0</td>\n",
              "      <td>0</td>\n",
              "      <td>0</td>\n",
              "      <td>0</td>\n",
              "      <td>0</td>\n",
              "      <td>0</td>\n",
              "      <td>0</td>\n",
              "      <td>0</td>\n",
              "      <td>0</td>\n",
              "      <td>0</td>\n",
              "      <td>0</td>\n",
              "      <td>0</td>\n",
              "      <td>0</td>\n",
              "      <td>0</td>\n",
              "      <td>0</td>\n",
              "      <td>0</td>\n",
              "      <td>0</td>\n",
              "      <td>0</td>\n",
              "      <td>0</td>\n",
              "      <td>0</td>\n",
              "      <td>0</td>\n",
              "      <td>0</td>\n",
              "      <td>0</td>\n",
              "      <td>0</td>\n",
              "      <td>0</td>\n",
              "      <td>0</td>\n",
              "      <td>0</td>\n",
              "      <td>0</td>\n",
              "      <td>0</td>\n",
              "      <td>0</td>\n",
              "      <td>0</td>\n",
              "      <td>0</td>\n",
              "      <td>0</td>\n",
              "      <td>0</td>\n",
              "      <td>0</td>\n",
              "      <td>...</td>\n",
              "      <td>0</td>\n",
              "      <td>0</td>\n",
              "      <td>0</td>\n",
              "      <td>0</td>\n",
              "      <td>0</td>\n",
              "      <td>0</td>\n",
              "      <td>0</td>\n",
              "      <td>0</td>\n",
              "      <td>0</td>\n",
              "      <td>0</td>\n",
              "      <td>0</td>\n",
              "      <td>0</td>\n",
              "      <td>0</td>\n",
              "      <td>0</td>\n",
              "      <td>0</td>\n",
              "      <td>0</td>\n",
              "      <td>0</td>\n",
              "      <td>0</td>\n",
              "      <td>0</td>\n",
              "      <td>0</td>\n",
              "      <td>0</td>\n",
              "      <td>0</td>\n",
              "      <td>0</td>\n",
              "      <td>0</td>\n",
              "      <td>0</td>\n",
              "      <td>0</td>\n",
              "      <td>0</td>\n",
              "      <td>0</td>\n",
              "      <td>0</td>\n",
              "      <td>0</td>\n",
              "      <td>0</td>\n",
              "      <td>0</td>\n",
              "      <td>0</td>\n",
              "      <td>0</td>\n",
              "      <td>0</td>\n",
              "      <td>0</td>\n",
              "      <td>0</td>\n",
              "      <td>0</td>\n",
              "      <td>0</td>\n",
              "      <td>0</td>\n",
              "    </tr>\n",
              "  </tbody>\n",
              "</table>\n",
              "<p>5 rows × 1113 columns</p>\n",
              "</div>"
            ],
            "text/plain": [
              "   1_Instant food products  1_UHT-milk  ...  9_yogurt  9_zwieback\n",
              "0                        0           0  ...         0           0\n",
              "1                        0           0  ...         0           0\n",
              "2                        0           0  ...         0           0\n",
              "3                        0           0  ...         0           0\n",
              "4                        0           0  ...         0           0\n",
              "\n",
              "[5 rows x 1113 columns]"
            ]
          },
          "metadata": {
            "tags": []
          },
          "execution_count": 63
        }
      ]
    },
    {
      "cell_type": "code",
      "metadata": {
        "colab": {
          "base_uri": "https://localhost:8080/",
          "height": 0
        },
        "id": "gaenXOUmsQV4",
        "outputId": "471d340c-d6d6-4e0d-9b74-cc630cd7ce70"
      },
      "source": [
        "# Minimum support of 2%\r\n",
        "apriori(basket_sets, min_support=0.02, use_colnames=True).head()"
      ],
      "execution_count": 64,
      "outputs": [
        {
          "output_type": "execute_result",
          "data": {
            "text/html": [
              "<div>\n",
              "<style scoped>\n",
              "    .dataframe tbody tr th:only-of-type {\n",
              "        vertical-align: middle;\n",
              "    }\n",
              "\n",
              "    .dataframe tbody tr th {\n",
              "        vertical-align: top;\n",
              "    }\n",
              "\n",
              "    .dataframe thead th {\n",
              "        text-align: right;\n",
              "    }\n",
              "</style>\n",
              "<table border=\"1\" class=\"dataframe\">\n",
              "  <thead>\n",
              "    <tr style=\"text-align: right;\">\n",
              "      <th></th>\n",
              "      <th>support</th>\n",
              "      <th>itemsets</th>\n",
              "    </tr>\n",
              "  </thead>\n",
              "  <tbody>\n",
              "    <tr>\n",
              "      <th>0</th>\n",
              "      <td>0.030421</td>\n",
              "      <td>(1_beef)</td>\n",
              "    </tr>\n",
              "    <tr>\n",
              "      <th>1</th>\n",
              "      <td>0.034951</td>\n",
              "      <td>(1_canned beer)</td>\n",
              "    </tr>\n",
              "    <tr>\n",
              "      <th>2</th>\n",
              "      <td>0.029126</td>\n",
              "      <td>(1_chicken)</td>\n",
              "    </tr>\n",
              "    <tr>\n",
              "      <th>3</th>\n",
              "      <td>0.049191</td>\n",
              "      <td>(1_citrus fruit)</td>\n",
              "    </tr>\n",
              "    <tr>\n",
              "      <th>4</th>\n",
              "      <td>0.064401</td>\n",
              "      <td>(1_frankfurter)</td>\n",
              "    </tr>\n",
              "  </tbody>\n",
              "</table>\n",
              "</div>"
            ],
            "text/plain": [
              "    support          itemsets\n",
              "0  0.030421          (1_beef)\n",
              "1  0.034951   (1_canned beer)\n",
              "2  0.029126       (1_chicken)\n",
              "3  0.049191  (1_citrus fruit)\n",
              "4  0.064401   (1_frankfurter)"
            ]
          },
          "metadata": {
            "tags": []
          },
          "execution_count": 64
        }
      ]
    },
    {
      "cell_type": "code",
      "metadata": {
        "colab": {
          "base_uri": "https://localhost:8080/",
          "height": 0
        },
        "id": "D7Ni_sposQTm",
        "outputId": "adefc2f7-ee31-42b5-822e-a61c4f6cc7ac"
      },
      "source": [
        "df = basket_sets\r\n",
        "\r\n",
        "frequent_itemsets = apriori(basket_sets, min_support=0.002, use_colnames=True)\r\n",
        "\r\n",
        "frequent_itemsets['length'] = frequent_itemsets['itemsets'].apply(lambda x: len(x))   #Column with length of combination\r\n",
        "frequent_itemsets[frequent_itemsets.length >= 3]    #Items that are frequently purchased together"
      ],
      "execution_count": 65,
      "outputs": [
        {
          "output_type": "execute_result",
          "data": {
            "text/html": [
              "<div>\n",
              "<style scoped>\n",
              "    .dataframe tbody tr th:only-of-type {\n",
              "        vertical-align: middle;\n",
              "    }\n",
              "\n",
              "    .dataframe tbody tr th {\n",
              "        vertical-align: top;\n",
              "    }\n",
              "\n",
              "    .dataframe thead th {\n",
              "        text-align: right;\n",
              "    }\n",
              "</style>\n",
              "<table border=\"1\" class=\"dataframe\">\n",
              "  <thead>\n",
              "    <tr style=\"text-align: right;\">\n",
              "      <th></th>\n",
              "      <th>support</th>\n",
              "      <th>itemsets</th>\n",
              "      <th>length</th>\n",
              "    </tr>\n",
              "  </thead>\n",
              "  <tbody>\n",
              "    <tr>\n",
              "      <th>820</th>\n",
              "      <td>0.002589</td>\n",
              "      <td>(3_other vegetables, 2_root vegetables, 1_beef)</td>\n",
              "      <td>3</td>\n",
              "    </tr>\n",
              "    <tr>\n",
              "      <th>821</th>\n",
              "      <td>0.002589</td>\n",
              "      <td>(1_chicken, 3_whole milk, 2_other vegetables)</td>\n",
              "      <td>3</td>\n",
              "    </tr>\n",
              "    <tr>\n",
              "      <th>822</th>\n",
              "      <td>0.002589</td>\n",
              "      <td>(3_whole milk, 1_citrus fruit, 2_other vegetab...</td>\n",
              "      <td>3</td>\n",
              "    </tr>\n",
              "    <tr>\n",
              "      <th>823</th>\n",
              "      <td>0.003236</td>\n",
              "      <td>(3_pip fruit, 1_citrus fruit, 2_tropical fruit)</td>\n",
              "      <td>3</td>\n",
              "    </tr>\n",
              "    <tr>\n",
              "      <th>824</th>\n",
              "      <td>0.002589</td>\n",
              "      <td>(3_other vegetables, 4_whole milk, 1_citrus fr...</td>\n",
              "      <td>3</td>\n",
              "    </tr>\n",
              "    <tr>\n",
              "      <th>825</th>\n",
              "      <td>0.002265</td>\n",
              "      <td>(1_frankfurter, 6_whole milk, 5_other vegetables)</td>\n",
              "      <td>3</td>\n",
              "    </tr>\n",
              "    <tr>\n",
              "      <th>826</th>\n",
              "      <td>0.002265</td>\n",
              "      <td>(3_other vegetables, 4_whole milk, 1_pork)</td>\n",
              "      <td>3</td>\n",
              "    </tr>\n",
              "    <tr>\n",
              "      <th>827</th>\n",
              "      <td>0.003560</td>\n",
              "      <td>(1_root vegetables, 3_whole milk, 2_other vege...</td>\n",
              "      <td>3</td>\n",
              "    </tr>\n",
              "    <tr>\n",
              "      <th>828</th>\n",
              "      <td>0.002589</td>\n",
              "      <td>(1_sausage, 2_rolls/buns, 3_soda)</td>\n",
              "      <td>3</td>\n",
              "    </tr>\n",
              "    <tr>\n",
              "      <th>829</th>\n",
              "      <td>0.002265</td>\n",
              "      <td>(3_other vegetables, 1_sausage, 4_whole milk)</td>\n",
              "      <td>3</td>\n",
              "    </tr>\n",
              "    <tr>\n",
              "      <th>830</th>\n",
              "      <td>0.002265</td>\n",
              "      <td>(1_sausage, 4_other vegetables, 5_whole milk)</td>\n",
              "      <td>3</td>\n",
              "    </tr>\n",
              "    <tr>\n",
              "      <th>831</th>\n",
              "      <td>0.002913</td>\n",
              "      <td>(3_whole milk, 1_tropical fruit, 2_other veget...</td>\n",
              "      <td>3</td>\n",
              "    </tr>\n",
              "    <tr>\n",
              "      <th>832</th>\n",
              "      <td>0.002265</td>\n",
              "      <td>(2_citrus fruit, 4_other vegetables, 5_whole m...</td>\n",
              "      <td>3</td>\n",
              "    </tr>\n",
              "    <tr>\n",
              "      <th>833</th>\n",
              "      <td>0.002265</td>\n",
              "      <td>(4_butter, 3_whole milk, 2_other vegetables)</td>\n",
              "      <td>3</td>\n",
              "    </tr>\n",
              "    <tr>\n",
              "      <th>834</th>\n",
              "      <td>0.003560</td>\n",
              "      <td>(4_curd, 3_whole milk, 2_other vegetables)</td>\n",
              "      <td>3</td>\n",
              "    </tr>\n",
              "    <tr>\n",
              "      <th>835</th>\n",
              "      <td>0.003883</td>\n",
              "      <td>(4_yogurt, 3_whole milk, 2_other vegetables)</td>\n",
              "      <td>3</td>\n",
              "    </tr>\n",
              "    <tr>\n",
              "      <th>836</th>\n",
              "      <td>0.002265</td>\n",
              "      <td>(6_rolls/buns, 3_whole milk, 2_other vegetables)</td>\n",
              "      <td>3</td>\n",
              "    </tr>\n",
              "    <tr>\n",
              "      <th>837</th>\n",
              "      <td>0.003236</td>\n",
              "      <td>(3_other vegetables, 4_whole milk, 2_pip fruit)</td>\n",
              "      <td>3</td>\n",
              "    </tr>\n",
              "    <tr>\n",
              "      <th>838</th>\n",
              "      <td>0.005825</td>\n",
              "      <td>(3_other vegetables, 2_root vegetables, 4_whol...</td>\n",
              "      <td>3</td>\n",
              "    </tr>\n",
              "    <tr>\n",
              "      <th>839</th>\n",
              "      <td>0.002265</td>\n",
              "      <td>(3_pip fruit, 4_other vegetables, 2_tropical f...</td>\n",
              "      <td>3</td>\n",
              "    </tr>\n",
              "    <tr>\n",
              "      <th>840</th>\n",
              "      <td>0.003560</td>\n",
              "      <td>(3_other vegetables, 4_whole milk, 5_butter)</td>\n",
              "      <td>3</td>\n",
              "    </tr>\n",
              "    <tr>\n",
              "      <th>841</th>\n",
              "      <td>0.002913</td>\n",
              "      <td>(3_other vegetables, 4_whole milk, 5_yogurt)</td>\n",
              "      <td>3</td>\n",
              "    </tr>\n",
              "    <tr>\n",
              "      <th>842</th>\n",
              "      <td>0.003560</td>\n",
              "      <td>(3_other vegetables, 4_whole milk, 6_yogurt)</td>\n",
              "      <td>3</td>\n",
              "    </tr>\n",
              "    <tr>\n",
              "      <th>843</th>\n",
              "      <td>0.002265</td>\n",
              "      <td>(5_other vegetables, 3_pip fruit, 4_root veget...</td>\n",
              "      <td>3</td>\n",
              "    </tr>\n",
              "    <tr>\n",
              "      <th>844</th>\n",
              "      <td>0.002265</td>\n",
              "      <td>(6_whole milk, 3_pip fruit, 5_other vegetables)</td>\n",
              "      <td>3</td>\n",
              "    </tr>\n",
              "    <tr>\n",
              "      <th>845</th>\n",
              "      <td>0.002589</td>\n",
              "      <td>(4_other vegetables, 3_root vegetables, 5_whol...</td>\n",
              "      <td>3</td>\n",
              "    </tr>\n",
              "    <tr>\n",
              "      <th>846</th>\n",
              "      <td>0.002913</td>\n",
              "      <td>(4_curd, 3_whole milk, 5_yogurt)</td>\n",
              "      <td>3</td>\n",
              "    </tr>\n",
              "    <tr>\n",
              "      <th>847</th>\n",
              "      <td>0.003236</td>\n",
              "      <td>(5_other vegetables, 6_whole milk, 4_root vege...</td>\n",
              "      <td>3</td>\n",
              "    </tr>\n",
              "    <tr>\n",
              "      <th>848</th>\n",
              "      <td>0.002265</td>\n",
              "      <td>(7_butter, 6_whole milk, 5_other vegetables)</td>\n",
              "      <td>3</td>\n",
              "    </tr>\n",
              "  </tbody>\n",
              "</table>\n",
              "</div>"
            ],
            "text/plain": [
              "      support                                           itemsets  length\n",
              "820  0.002589    (3_other vegetables, 2_root vegetables, 1_beef)       3\n",
              "821  0.002589      (1_chicken, 3_whole milk, 2_other vegetables)       3\n",
              "822  0.002589  (3_whole milk, 1_citrus fruit, 2_other vegetab...       3\n",
              "823  0.003236    (3_pip fruit, 1_citrus fruit, 2_tropical fruit)       3\n",
              "824  0.002589  (3_other vegetables, 4_whole milk, 1_citrus fr...       3\n",
              "825  0.002265  (1_frankfurter, 6_whole milk, 5_other vegetables)       3\n",
              "826  0.002265         (3_other vegetables, 4_whole milk, 1_pork)       3\n",
              "827  0.003560  (1_root vegetables, 3_whole milk, 2_other vege...       3\n",
              "828  0.002589                  (1_sausage, 2_rolls/buns, 3_soda)       3\n",
              "829  0.002265      (3_other vegetables, 1_sausage, 4_whole milk)       3\n",
              "830  0.002265      (1_sausage, 4_other vegetables, 5_whole milk)       3\n",
              "831  0.002913  (3_whole milk, 1_tropical fruit, 2_other veget...       3\n",
              "832  0.002265  (2_citrus fruit, 4_other vegetables, 5_whole m...       3\n",
              "833  0.002265       (4_butter, 3_whole milk, 2_other vegetables)       3\n",
              "834  0.003560         (4_curd, 3_whole milk, 2_other vegetables)       3\n",
              "835  0.003883       (4_yogurt, 3_whole milk, 2_other vegetables)       3\n",
              "836  0.002265   (6_rolls/buns, 3_whole milk, 2_other vegetables)       3\n",
              "837  0.003236    (3_other vegetables, 4_whole milk, 2_pip fruit)       3\n",
              "838  0.005825  (3_other vegetables, 2_root vegetables, 4_whol...       3\n",
              "839  0.002265  (3_pip fruit, 4_other vegetables, 2_tropical f...       3\n",
              "840  0.003560       (3_other vegetables, 4_whole milk, 5_butter)       3\n",
              "841  0.002913       (3_other vegetables, 4_whole milk, 5_yogurt)       3\n",
              "842  0.003560       (3_other vegetables, 4_whole milk, 6_yogurt)       3\n",
              "843  0.002265  (5_other vegetables, 3_pip fruit, 4_root veget...       3\n",
              "844  0.002265    (6_whole milk, 3_pip fruit, 5_other vegetables)       3\n",
              "845  0.002589  (4_other vegetables, 3_root vegetables, 5_whol...       3\n",
              "846  0.002913                   (4_curd, 3_whole milk, 5_yogurt)       3\n",
              "847  0.003236  (5_other vegetables, 6_whole milk, 4_root vege...       3\n",
              "848  0.002265       (7_butter, 6_whole milk, 5_other vegetables)       3"
            ]
          },
          "metadata": {
            "tags": []
          },
          "execution_count": 65
        }
      ]
    },
    {
      "cell_type": "code",
      "metadata": {
        "colab": {
          "base_uri": "https://localhost:8080/",
          "height": 0
        },
        "id": "_GAgKTN4tgO4",
        "outputId": "cf91b9bf-706a-463a-f129-528fb29a1dbb"
      },
      "source": [
        "# Setting Association Rules with Confidence as metric\r\n",
        "rules = association_rules(frequent_itemsets, metric='confidence', min_threshold=0.5)\r\n",
        "rules.head()"
      ],
      "execution_count": 66,
      "outputs": [
        {
          "output_type": "execute_result",
          "data": {
            "text/html": [
              "<div>\n",
              "<style scoped>\n",
              "    .dataframe tbody tr th:only-of-type {\n",
              "        vertical-align: middle;\n",
              "    }\n",
              "\n",
              "    .dataframe tbody tr th {\n",
              "        vertical-align: top;\n",
              "    }\n",
              "\n",
              "    .dataframe thead th {\n",
              "        text-align: right;\n",
              "    }\n",
              "</style>\n",
              "<table border=\"1\" class=\"dataframe\">\n",
              "  <thead>\n",
              "    <tr style=\"text-align: right;\">\n",
              "      <th></th>\n",
              "      <th>antecedents</th>\n",
              "      <th>consequents</th>\n",
              "      <th>antecedent support</th>\n",
              "      <th>consequent support</th>\n",
              "      <th>support</th>\n",
              "      <th>confidence</th>\n",
              "      <th>lift</th>\n",
              "      <th>leverage</th>\n",
              "      <th>conviction</th>\n",
              "    </tr>\n",
              "  </thead>\n",
              "  <tbody>\n",
              "    <tr>\n",
              "      <th>0</th>\n",
              "      <td>(2_sausage)</td>\n",
              "      <td>(1_frankfurter)</td>\n",
              "      <td>0.011327</td>\n",
              "      <td>0.064401</td>\n",
              "      <td>0.011327</td>\n",
              "      <td>1.000000</td>\n",
              "      <td>15.527638</td>\n",
              "      <td>0.010597</td>\n",
              "      <td>inf</td>\n",
              "    </tr>\n",
              "    <tr>\n",
              "      <th>1</th>\n",
              "      <td>(7_pastry)</td>\n",
              "      <td>(1_frankfurter)</td>\n",
              "      <td>0.005178</td>\n",
              "      <td>0.064401</td>\n",
              "      <td>0.002589</td>\n",
              "      <td>0.500000</td>\n",
              "      <td>7.763819</td>\n",
              "      <td>0.002256</td>\n",
              "      <td>1.871197</td>\n",
              "    </tr>\n",
              "    <tr>\n",
              "      <th>2</th>\n",
              "      <td>(2_ham)</td>\n",
              "      <td>(1_sausage)</td>\n",
              "      <td>0.007120</td>\n",
              "      <td>0.076052</td>\n",
              "      <td>0.004531</td>\n",
              "      <td>0.636364</td>\n",
              "      <td>8.367505</td>\n",
              "      <td>0.003989</td>\n",
              "      <td>2.540858</td>\n",
              "    </tr>\n",
              "    <tr>\n",
              "      <th>3</th>\n",
              "      <td>(2_meat)</td>\n",
              "      <td>(1_sausage)</td>\n",
              "      <td>0.006796</td>\n",
              "      <td>0.076052</td>\n",
              "      <td>0.004854</td>\n",
              "      <td>0.714286</td>\n",
              "      <td>9.392097</td>\n",
              "      <td>0.004338</td>\n",
              "      <td>3.233819</td>\n",
              "    </tr>\n",
              "    <tr>\n",
              "      <th>4</th>\n",
              "      <td>(3_beef)</td>\n",
              "      <td>(1_sausage)</td>\n",
              "      <td>0.004854</td>\n",
              "      <td>0.076052</td>\n",
              "      <td>0.002589</td>\n",
              "      <td>0.533333</td>\n",
              "      <td>7.012766</td>\n",
              "      <td>0.002220</td>\n",
              "      <td>1.979889</td>\n",
              "    </tr>\n",
              "  </tbody>\n",
              "</table>\n",
              "</div>"
            ],
            "text/plain": [
              "   antecedents      consequents  ...  leverage  conviction\n",
              "0  (2_sausage)  (1_frankfurter)  ...  0.010597         inf\n",
              "1   (7_pastry)  (1_frankfurter)  ...  0.002256    1.871197\n",
              "2      (2_ham)      (1_sausage)  ...  0.003989    2.540858\n",
              "3     (2_meat)      (1_sausage)  ...  0.004338    3.233819\n",
              "4     (3_beef)      (1_sausage)  ...  0.002220    1.979889\n",
              "\n",
              "[5 rows x 9 columns]"
            ]
          },
          "metadata": {
            "tags": []
          },
          "execution_count": 66
        }
      ]
    },
    {
      "cell_type": "code",
      "metadata": {
        "colab": {
          "base_uri": "https://localhost:8080/",
          "height": 0
        },
        "id": "_xZPeUZdt6IA",
        "outputId": "3c47af04-7579-4ff8-c991-5088eb4ee864"
      },
      "source": [
        "# Now with lift as metric\r\n",
        "rules = association_rules(frequent_itemsets, metric='lift', min_threshold=1)\r\n",
        "rules.head()       #Difference in confidence makes citrus then beef a better prediction than beef then citrus"
      ],
      "execution_count": 67,
      "outputs": [
        {
          "output_type": "execute_result",
          "data": {
            "text/html": [
              "<div>\n",
              "<style scoped>\n",
              "    .dataframe tbody tr th:only-of-type {\n",
              "        vertical-align: middle;\n",
              "    }\n",
              "\n",
              "    .dataframe tbody tr th {\n",
              "        vertical-align: top;\n",
              "    }\n",
              "\n",
              "    .dataframe thead th {\n",
              "        text-align: right;\n",
              "    }\n",
              "</style>\n",
              "<table border=\"1\" class=\"dataframe\">\n",
              "  <thead>\n",
              "    <tr style=\"text-align: right;\">\n",
              "      <th></th>\n",
              "      <th>antecedents</th>\n",
              "      <th>consequents</th>\n",
              "      <th>antecedent support</th>\n",
              "      <th>consequent support</th>\n",
              "      <th>support</th>\n",
              "      <th>confidence</th>\n",
              "      <th>lift</th>\n",
              "      <th>leverage</th>\n",
              "      <th>conviction</th>\n",
              "    </tr>\n",
              "  </thead>\n",
              "  <tbody>\n",
              "    <tr>\n",
              "      <th>0</th>\n",
              "      <td>(1_beef)</td>\n",
              "      <td>(2_citrus fruit)</td>\n",
              "      <td>0.030421</td>\n",
              "      <td>0.028803</td>\n",
              "      <td>0.005502</td>\n",
              "      <td>0.180851</td>\n",
              "      <td>6.278986</td>\n",
              "      <td>0.004625</td>\n",
              "      <td>1.185618</td>\n",
              "    </tr>\n",
              "    <tr>\n",
              "      <th>1</th>\n",
              "      <td>(2_citrus fruit)</td>\n",
              "      <td>(1_beef)</td>\n",
              "      <td>0.028803</td>\n",
              "      <td>0.030421</td>\n",
              "      <td>0.005502</td>\n",
              "      <td>0.191011</td>\n",
              "      <td>6.278986</td>\n",
              "      <td>0.004625</td>\n",
              "      <td>1.198508</td>\n",
              "    </tr>\n",
              "    <tr>\n",
              "      <th>2</th>\n",
              "      <td>(1_beef)</td>\n",
              "      <td>(2_other vegetables)</td>\n",
              "      <td>0.030421</td>\n",
              "      <td>0.058900</td>\n",
              "      <td>0.003236</td>\n",
              "      <td>0.106383</td>\n",
              "      <td>1.806173</td>\n",
              "      <td>0.001444</td>\n",
              "      <td>1.053136</td>\n",
              "    </tr>\n",
              "    <tr>\n",
              "      <th>3</th>\n",
              "      <td>(2_other vegetables)</td>\n",
              "      <td>(1_beef)</td>\n",
              "      <td>0.058900</td>\n",
              "      <td>0.030421</td>\n",
              "      <td>0.003236</td>\n",
              "      <td>0.054945</td>\n",
              "      <td>1.806173</td>\n",
              "      <td>0.001444</td>\n",
              "      <td>1.025950</td>\n",
              "    </tr>\n",
              "    <tr>\n",
              "      <th>4</th>\n",
              "      <td>(1_beef)</td>\n",
              "      <td>(2_root vegetables)</td>\n",
              "      <td>0.030421</td>\n",
              "      <td>0.036893</td>\n",
              "      <td>0.005502</td>\n",
              "      <td>0.180851</td>\n",
              "      <td>4.902016</td>\n",
              "      <td>0.004379</td>\n",
              "      <td>1.175741</td>\n",
              "    </tr>\n",
              "  </tbody>\n",
              "</table>\n",
              "</div>"
            ],
            "text/plain": [
              "            antecedents           consequents  ...  leverage  conviction\n",
              "0              (1_beef)      (2_citrus fruit)  ...  0.004625    1.185618\n",
              "1      (2_citrus fruit)              (1_beef)  ...  0.004625    1.198508\n",
              "2              (1_beef)  (2_other vegetables)  ...  0.001444    1.053136\n",
              "3  (2_other vegetables)              (1_beef)  ...  0.001444    1.025950\n",
              "4              (1_beef)   (2_root vegetables)  ...  0.004379    1.175741\n",
              "\n",
              "[5 rows x 9 columns]"
            ]
          },
          "metadata": {
            "tags": []
          },
          "execution_count": 67
        }
      ]
    },
    {
      "cell_type": "code",
      "metadata": {
        "colab": {
          "base_uri": "https://localhost:8080/",
          "height": 0
        },
        "id": "LtmV3_wCuOaJ",
        "outputId": "95f5bc08-6efa-4187-ab63-4b9e2d524595"
      },
      "source": [
        "rules[(rules.lift >= 10) & (rules.confidence >= .9)]"
      ],
      "execution_count": 68,
      "outputs": [
        {
          "output_type": "execute_result",
          "data": {
            "text/html": [
              "<div>\n",
              "<style scoped>\n",
              "    .dataframe tbody tr th:only-of-type {\n",
              "        vertical-align: middle;\n",
              "    }\n",
              "\n",
              "    .dataframe tbody tr th {\n",
              "        vertical-align: top;\n",
              "    }\n",
              "\n",
              "    .dataframe thead th {\n",
              "        text-align: right;\n",
              "    }\n",
              "</style>\n",
              "<table border=\"1\" class=\"dataframe\">\n",
              "  <thead>\n",
              "    <tr style=\"text-align: right;\">\n",
              "      <th></th>\n",
              "      <th>antecedents</th>\n",
              "      <th>consequents</th>\n",
              "      <th>antecedent support</th>\n",
              "      <th>consequent support</th>\n",
              "      <th>support</th>\n",
              "      <th>confidence</th>\n",
              "      <th>lift</th>\n",
              "      <th>leverage</th>\n",
              "      <th>conviction</th>\n",
              "    </tr>\n",
              "  </thead>\n",
              "  <tbody>\n",
              "    <tr>\n",
              "      <th>93</th>\n",
              "      <td>(2_sausage)</td>\n",
              "      <td>(1_frankfurter)</td>\n",
              "      <td>0.011327</td>\n",
              "      <td>0.064401</td>\n",
              "      <td>0.011327</td>\n",
              "      <td>1.000000</td>\n",
              "      <td>15.527638</td>\n",
              "      <td>0.010597</td>\n",
              "      <td>inf</td>\n",
              "    </tr>\n",
              "    <tr>\n",
              "      <th>779</th>\n",
              "      <td>(7_whole milk)</td>\n",
              "      <td>(6_other vegetables)</td>\n",
              "      <td>0.004207</td>\n",
              "      <td>0.007120</td>\n",
              "      <td>0.003883</td>\n",
              "      <td>0.923077</td>\n",
              "      <td>129.650350</td>\n",
              "      <td>0.003854</td>\n",
              "      <td>12.907443</td>\n",
              "    </tr>\n",
              "    <tr>\n",
              "      <th>795</th>\n",
              "      <td>(9_whipped/sour cream)</td>\n",
              "      <td>(8_yogurt)</td>\n",
              "      <td>0.002265</td>\n",
              "      <td>0.004854</td>\n",
              "      <td>0.002265</td>\n",
              "      <td>1.000000</td>\n",
              "      <td>206.000000</td>\n",
              "      <td>0.002254</td>\n",
              "      <td>inf</td>\n",
              "    </tr>\n",
              "    <tr>\n",
              "      <th>814</th>\n",
              "      <td>(3_pip fruit, 1_citrus fruit)</td>\n",
              "      <td>(2_tropical fruit)</td>\n",
              "      <td>0.003236</td>\n",
              "      <td>0.034628</td>\n",
              "      <td>0.003236</td>\n",
              "      <td>1.000000</td>\n",
              "      <td>28.878505</td>\n",
              "      <td>0.003124</td>\n",
              "      <td>inf</td>\n",
              "    </tr>\n",
              "    <tr>\n",
              "      <th>875</th>\n",
              "      <td>(4_butter, 2_other vegetables)</td>\n",
              "      <td>(3_whole milk)</td>\n",
              "      <td>0.002265</td>\n",
              "      <td>0.057929</td>\n",
              "      <td>0.002265</td>\n",
              "      <td>1.000000</td>\n",
              "      <td>17.262570</td>\n",
              "      <td>0.002134</td>\n",
              "      <td>inf</td>\n",
              "    </tr>\n",
              "    <tr>\n",
              "      <th>881</th>\n",
              "      <td>(4_curd, 2_other vegetables)</td>\n",
              "      <td>(3_whole milk)</td>\n",
              "      <td>0.003883</td>\n",
              "      <td>0.057929</td>\n",
              "      <td>0.003560</td>\n",
              "      <td>0.916667</td>\n",
              "      <td>15.824022</td>\n",
              "      <td>0.003335</td>\n",
              "      <td>11.304854</td>\n",
              "    </tr>\n",
              "    <tr>\n",
              "      <th>906</th>\n",
              "      <td>(2_root vegetables, 4_whole milk)</td>\n",
              "      <td>(3_other vegetables)</td>\n",
              "      <td>0.006149</td>\n",
              "      <td>0.045955</td>\n",
              "      <td>0.005825</td>\n",
              "      <td>0.947368</td>\n",
              "      <td>20.615271</td>\n",
              "      <td>0.005543</td>\n",
              "      <td>18.126861</td>\n",
              "    </tr>\n",
              "    <tr>\n",
              "      <th>917</th>\n",
              "      <td>(3_other vegetables, 5_butter)</td>\n",
              "      <td>(4_whole milk)</td>\n",
              "      <td>0.003560</td>\n",
              "      <td>0.033333</td>\n",
              "      <td>0.003560</td>\n",
              "      <td>1.000000</td>\n",
              "      <td>30.000000</td>\n",
              "      <td>0.003441</td>\n",
              "      <td>inf</td>\n",
              "    </tr>\n",
              "    <tr>\n",
              "      <th>929</th>\n",
              "      <td>(3_other vegetables, 6_yogurt)</td>\n",
              "      <td>(4_whole milk)</td>\n",
              "      <td>0.003560</td>\n",
              "      <td>0.033333</td>\n",
              "      <td>0.003560</td>\n",
              "      <td>1.000000</td>\n",
              "      <td>30.000000</td>\n",
              "      <td>0.003441</td>\n",
              "      <td>inf</td>\n",
              "    </tr>\n",
              "    <tr>\n",
              "      <th>940</th>\n",
              "      <td>(6_whole milk, 3_pip fruit)</td>\n",
              "      <td>(5_other vegetables)</td>\n",
              "      <td>0.002265</td>\n",
              "      <td>0.012621</td>\n",
              "      <td>0.002265</td>\n",
              "      <td>1.000000</td>\n",
              "      <td>79.230769</td>\n",
              "      <td>0.002237</td>\n",
              "      <td>inf</td>\n",
              "    </tr>\n",
              "  </tbody>\n",
              "</table>\n",
              "</div>"
            ],
            "text/plain": [
              "                           antecedents  ... conviction\n",
              "93                         (2_sausage)  ...        inf\n",
              "779                     (7_whole milk)  ...  12.907443\n",
              "795             (9_whipped/sour cream)  ...        inf\n",
              "814      (3_pip fruit, 1_citrus fruit)  ...        inf\n",
              "875     (4_butter, 2_other vegetables)  ...        inf\n",
              "881       (4_curd, 2_other vegetables)  ...  11.304854\n",
              "906  (2_root vegetables, 4_whole milk)  ...  18.126861\n",
              "917     (3_other vegetables, 5_butter)  ...        inf\n",
              "929     (3_other vegetables, 6_yogurt)  ...        inf\n",
              "940        (6_whole milk, 3_pip fruit)  ...        inf\n",
              "\n",
              "[10 rows x 9 columns]"
            ]
          },
          "metadata": {
            "tags": []
          },
          "execution_count": 68
        }
      ]
    },
    {
      "cell_type": "markdown",
      "metadata": {
        "id": "CuJCuYIgvKLq"
      },
      "source": [
        "## NEURAL NETWORKS"
      ]
    },
    {
      "cell_type": "code",
      "metadata": {
        "colab": {
          "base_uri": "https://localhost:8080/"
        },
        "id": "3uFmcGLJvOjS",
        "outputId": "7303bde6-c3fe-4a7f-8684-3b49668db7de"
      },
      "source": [
        "# BUILDING PERCEPTRON WITH LINEAR ACTIVATION FUNCTION\r\n",
        "\r\n",
        "from sklearn.preprocessing import StandardScaler\r\n",
        "from sklearn.linear_model import Perceptron\r\n",
        "\r\n",
        "X = iris.data\r\n",
        "y = iris.target\r\n",
        "\r\n",
        "X[0:10]"
      ],
      "execution_count": 69,
      "outputs": [
        {
          "output_type": "execute_result",
          "data": {
            "text/plain": [
              "array([[5.1, 3.5, 1.4, 0.2],\n",
              "       [4.9, 3. , 1.4, 0.2],\n",
              "       [4.7, 3.2, 1.3, 0.2],\n",
              "       [4.6, 3.1, 1.5, 0.2],\n",
              "       [5. , 3.6, 1.4, 0.2],\n",
              "       [5.4, 3.9, 1.7, 0.4],\n",
              "       [4.6, 3.4, 1.4, 0.3],\n",
              "       [5. , 3.4, 1.5, 0.2],\n",
              "       [4.4, 2.9, 1.4, 0.2],\n",
              "       [4.9, 3.1, 1.5, 0.1]])"
            ]
          },
          "metadata": {
            "tags": []
          },
          "execution_count": 69
        }
      ]
    },
    {
      "cell_type": "code",
      "metadata": {
        "id": "nHdxyTwVzOzO"
      },
      "source": [
        "X_train, X_test, y_train, y_test = train_test_split(X, y, test_size = 0.2)"
      ],
      "execution_count": 70,
      "outputs": []
    },
    {
      "cell_type": "code",
      "metadata": {
        "id": "rXizSMw1zaNE"
      },
      "source": [
        "# Standardizing datasets\r\n",
        "standardize = StandardScaler()\r\n",
        "\r\n",
        "standard_X_test = standardize.fit_transform(X_test)\r\n",
        "standard_X_train = standardize.fit_transform(X_train)"
      ],
      "execution_count": 71,
      "outputs": []
    },
    {
      "cell_type": "code",
      "metadata": {
        "colab": {
          "base_uri": "https://localhost:8080/"
        },
        "id": "ZgBZN8PezfMF",
        "outputId": "ef0efa52-28f6-4afd-c2a5-dfde4d52ec19"
      },
      "source": [
        "standard_X_test[0:10,]"
      ],
      "execution_count": 72,
      "outputs": [
        {
          "output_type": "execute_result",
          "data": {
            "text/plain": [
              "array([[ 1.01160702, -0.08600261,  0.76134356,  1.34848306],\n",
              "       [-0.30268557, -0.08600261,  0.11213587,  0.00893035],\n",
              "       [-0.30268557, -0.6020183 ,  0.58428692,  0.94661725],\n",
              "       [-0.90009129,  1.97806013, -1.42235502, -1.33062236],\n",
              "       [-1.01957243,  1.46204445, -1.4813739 , -1.46457763],\n",
              "       [ 0.89212588, -0.34401046,  0.40723028,  0.00893035],\n",
              "       [-0.90009129,  1.72005229, -1.42235502, -1.19666709],\n",
              "       [-1.01957243,  0.94602876, -1.36333614, -1.19666709],\n",
              "       [ 0.53368245,  0.68802092,  0.46624916,  0.41079616],\n",
              "       [-1.01957243,  0.43001307, -1.59941166, -1.46457763]])"
            ]
          },
          "metadata": {
            "tags": []
          },
          "execution_count": 72
        }
      ]
    },
    {
      "cell_type": "code",
      "metadata": {
        "colab": {
          "base_uri": "https://localhost:8080/"
        },
        "id": "QmKm-bY3zuTF",
        "outputId": "3c5e0e57-7c1b-4b59-e71d-610a35d714ec"
      },
      "source": [
        "perceptron = Perceptron(max_iter = 50, eta0 = 0.15, tol = 1e-3, random_state= 15)\r\n",
        "\r\n",
        "perceptron.fit(standard_X_train, y_train.ravel())"
      ],
      "execution_count": 73,
      "outputs": [
        {
          "output_type": "execute_result",
          "data": {
            "text/plain": [
              "Perceptron(alpha=0.0001, class_weight=None, early_stopping=False, eta0=0.15,\n",
              "           fit_intercept=True, max_iter=50, n_iter_no_change=5, n_jobs=None,\n",
              "           penalty=None, random_state=15, shuffle=True, tol=0.001,\n",
              "           validation_fraction=0.1, verbose=0, warm_start=False)"
            ]
          },
          "metadata": {
            "tags": []
          },
          "execution_count": 73
        }
      ]
    },
    {
      "cell_type": "code",
      "metadata": {
        "colab": {
          "base_uri": "https://localhost:8080/"
        },
        "id": "ObXT9-vLz39S",
        "outputId": "1177850b-c292-4fd9-c85f-e9b0588c98e4"
      },
      "source": [
        "# Now making predictions on test data\r\n",
        "y_pred = perceptron.predict(standard_X_test)\r\n",
        "\r\n",
        "print(y_test)"
      ],
      "execution_count": 74,
      "outputs": [
        {
          "output_type": "stream",
          "text": [
            "[2 1 2 0 0 1 0 0 1 0 2 2 0 1 1 2 2 2 1 1 2 1 1 1 1 0 0 2 2 2]\n"
          ],
          "name": "stdout"
        }
      ]
    },
    {
      "cell_type": "code",
      "metadata": {
        "colab": {
          "base_uri": "https://localhost:8080/"
        },
        "id": "lwRK4DTKz37N",
        "outputId": "81fb7cf0-55ca-4e38-bf59-ae0885714116"
      },
      "source": [
        "print(y_pred)"
      ],
      "execution_count": 75,
      "outputs": [
        {
          "output_type": "stream",
          "text": [
            "[2 0 2 0 0 0 0 0 0 0 2 2 0 0 0 1 2 2 1 1 2 1 1 1 1 0 0 2 2 2]\n"
          ],
          "name": "stdout"
        }
      ]
    },
    {
      "cell_type": "code",
      "metadata": {
        "colab": {
          "base_uri": "https://localhost:8080/"
        },
        "id": "o8L7VBmj0iCX",
        "outputId": "0e16e176-6ddf-4ec5-91c2-dcd388f65c88"
      },
      "source": [
        "print(classification_report(y_test, y_pred))"
      ],
      "execution_count": 76,
      "outputs": [
        {
          "output_type": "stream",
          "text": [
            "              precision    recall  f1-score   support\n",
            "\n",
            "           0       0.62      1.00      0.76         8\n",
            "           1       0.86      0.55      0.67        11\n",
            "           2       1.00      0.91      0.95        11\n",
            "\n",
            "    accuracy                           0.80        30\n",
            "   macro avg       0.82      0.82      0.79        30\n",
            "weighted avg       0.85      0.80      0.80        30\n",
            "\n"
          ],
          "name": "stdout"
        }
      ]
    },
    {
      "cell_type": "markdown",
      "metadata": {
        "id": "lrniykg61PiA"
      },
      "source": [
        "## KNN CLASSIFICATION"
      ]
    },
    {
      "cell_type": "code",
      "metadata": {
        "id": "gEs36sru1TWV"
      },
      "source": [
        "from sklearn.neighbors import KNeighborsClassifier\r\n",
        "from sklearn.preprocessing import scale"
      ],
      "execution_count": 77,
      "outputs": []
    },
    {
      "cell_type": "code",
      "metadata": {
        "colab": {
          "base_uri": "https://localhost:8080/",
          "height": 0
        },
        "id": "88DsmsP51__a",
        "outputId": "545dcb40-9466-491c-d51e-53b6107b4443"
      },
      "source": [
        "# Using cars dataset, classify as automatic is the goal\r\n",
        "cars.head()"
      ],
      "execution_count": 78,
      "outputs": [
        {
          "output_type": "execute_result",
          "data": {
            "text/html": [
              "<div>\n",
              "<style scoped>\n",
              "    .dataframe tbody tr th:only-of-type {\n",
              "        vertical-align: middle;\n",
              "    }\n",
              "\n",
              "    .dataframe tbody tr th {\n",
              "        vertical-align: top;\n",
              "    }\n",
              "\n",
              "    .dataframe thead th {\n",
              "        text-align: right;\n",
              "    }\n",
              "</style>\n",
              "<table border=\"1\" class=\"dataframe\">\n",
              "  <thead>\n",
              "    <tr style=\"text-align: right;\">\n",
              "      <th></th>\n",
              "      <th>car_names</th>\n",
              "      <th>mpg</th>\n",
              "      <th>cyl</th>\n",
              "      <th>disp</th>\n",
              "      <th>hp</th>\n",
              "      <th>drat</th>\n",
              "      <th>wt</th>\n",
              "      <th>qsec</th>\n",
              "      <th>vs</th>\n",
              "      <th>am</th>\n",
              "      <th>gear</th>\n",
              "      <th>carb</th>\n",
              "    </tr>\n",
              "  </thead>\n",
              "  <tbody>\n",
              "    <tr>\n",
              "      <th>0</th>\n",
              "      <td>Mazda RX4</td>\n",
              "      <td>21.0</td>\n",
              "      <td>6</td>\n",
              "      <td>160.0</td>\n",
              "      <td>110</td>\n",
              "      <td>3.90</td>\n",
              "      <td>2.620</td>\n",
              "      <td>16.46</td>\n",
              "      <td>0</td>\n",
              "      <td>1</td>\n",
              "      <td>4</td>\n",
              "      <td>4</td>\n",
              "    </tr>\n",
              "    <tr>\n",
              "      <th>1</th>\n",
              "      <td>Mazda RX4 Wag</td>\n",
              "      <td>21.0</td>\n",
              "      <td>6</td>\n",
              "      <td>160.0</td>\n",
              "      <td>110</td>\n",
              "      <td>3.90</td>\n",
              "      <td>2.875</td>\n",
              "      <td>17.02</td>\n",
              "      <td>0</td>\n",
              "      <td>1</td>\n",
              "      <td>4</td>\n",
              "      <td>4</td>\n",
              "    </tr>\n",
              "    <tr>\n",
              "      <th>2</th>\n",
              "      <td>Datsun 710</td>\n",
              "      <td>22.8</td>\n",
              "      <td>4</td>\n",
              "      <td>108.0</td>\n",
              "      <td>93</td>\n",
              "      <td>3.85</td>\n",
              "      <td>2.320</td>\n",
              "      <td>18.61</td>\n",
              "      <td>1</td>\n",
              "      <td>1</td>\n",
              "      <td>4</td>\n",
              "      <td>1</td>\n",
              "    </tr>\n",
              "    <tr>\n",
              "      <th>3</th>\n",
              "      <td>Hornet 4 Drive</td>\n",
              "      <td>21.4</td>\n",
              "      <td>6</td>\n",
              "      <td>258.0</td>\n",
              "      <td>110</td>\n",
              "      <td>3.08</td>\n",
              "      <td>3.215</td>\n",
              "      <td>19.44</td>\n",
              "      <td>1</td>\n",
              "      <td>0</td>\n",
              "      <td>3</td>\n",
              "      <td>1</td>\n",
              "    </tr>\n",
              "    <tr>\n",
              "      <th>4</th>\n",
              "      <td>Hornet Sportabout</td>\n",
              "      <td>18.7</td>\n",
              "      <td>8</td>\n",
              "      <td>360.0</td>\n",
              "      <td>175</td>\n",
              "      <td>3.15</td>\n",
              "      <td>3.440</td>\n",
              "      <td>17.02</td>\n",
              "      <td>0</td>\n",
              "      <td>0</td>\n",
              "      <td>3</td>\n",
              "      <td>2</td>\n",
              "    </tr>\n",
              "  </tbody>\n",
              "</table>\n",
              "</div>"
            ],
            "text/plain": [
              "           car_names   mpg  cyl   disp   hp  ...   qsec  vs  am  gear  carb\n",
              "0          Mazda RX4  21.0    6  160.0  110  ...  16.46   0   1     4     4\n",
              "1      Mazda RX4 Wag  21.0    6  160.0  110  ...  17.02   0   1     4     4\n",
              "2         Datsun 710  22.8    4  108.0   93  ...  18.61   1   1     4     1\n",
              "3     Hornet 4 Drive  21.4    6  258.0  110  ...  19.44   1   0     3     1\n",
              "4  Hornet Sportabout  18.7    8  360.0  175  ...  17.02   0   0     3     2\n",
              "\n",
              "[5 rows x 12 columns]"
            ]
          },
          "metadata": {
            "tags": []
          },
          "execution_count": 78
        }
      ]
    },
    {
      "cell_type": "code",
      "metadata": {
        "id": "0Zg5bCNb2DlM"
      },
      "source": [
        "X_prime = cars[['mpg', 'disp', 'hp', 'wt']].values\r\n",
        "y = cars['am'].values"
      ],
      "execution_count": 79,
      "outputs": []
    },
    {
      "cell_type": "code",
      "metadata": {
        "id": "7FDHT-0n2ND_"
      },
      "source": [
        "# Scaling variables\r\n",
        "X = scale(X_prime)"
      ],
      "execution_count": 80,
      "outputs": []
    },
    {
      "cell_type": "code",
      "metadata": {
        "id": "lKjpJ3DM2PeH"
      },
      "source": [
        "X_train, X_test, y_train, y_test = train_test_split(X, y, test_size = .2, random_state = 17)"
      ],
      "execution_count": 81,
      "outputs": []
    },
    {
      "cell_type": "code",
      "metadata": {
        "colab": {
          "base_uri": "https://localhost:8080/"
        },
        "id": "EmAyzs4X3G54",
        "outputId": "4e3a7e52-dfa6-4d9f-dd8c-365fc3477101"
      },
      "source": [
        "# Building model\r\n",
        "clf = KNeighborsClassifier()\r\n",
        "clf.fit(X_train, y_train)\r\n",
        "print(clf)"
      ],
      "execution_count": 82,
      "outputs": [
        {
          "output_type": "stream",
          "text": [
            "KNeighborsClassifier(algorithm='auto', leaf_size=30, metric='minkowski',\n",
            "                     metric_params=None, n_jobs=None, n_neighbors=5, p=2,\n",
            "                     weights='uniform')\n"
          ],
          "name": "stdout"
        }
      ]
    },
    {
      "cell_type": "code",
      "metadata": {
        "colab": {
          "base_uri": "https://localhost:8080/"
        },
        "id": "UE2yTtEZ3G0q",
        "outputId": "27031757-a7e7-41e6-d732-f4b7adb4878e"
      },
      "source": [
        "# Evaluating model predictions\r\n",
        "y_pred = clf.predict(X_test)\r\n",
        "y_expect = y_test\r\n",
        "\r\n",
        "print(classification_report(y_expect, y_pred))"
      ],
      "execution_count": 83,
      "outputs": [
        {
          "output_type": "stream",
          "text": [
            "              precision    recall  f1-score   support\n",
            "\n",
            "           0       0.80      1.00      0.89         4\n",
            "           1       1.00      0.67      0.80         3\n",
            "\n",
            "    accuracy                           0.86         7\n",
            "   macro avg       0.90      0.83      0.84         7\n",
            "weighted avg       0.89      0.86      0.85         7\n",
            "\n"
          ],
          "name": "stdout"
        }
      ]
    },
    {
      "cell_type": "markdown",
      "metadata": {
        "id": "Ltxf0CjJ3zD4"
      },
      "source": [
        "## NAIVE BAYES"
      ]
    },
    {
      "cell_type": "code",
      "metadata": {
        "id": "Y0MVpE303GyA"
      },
      "source": [
        "from sklearn.naive_bayes import BernoulliNB\r\n",
        "from sklearn.naive_bayes import GaussianNB\r\n",
        "from sklearn.naive_bayes import MultinomialNB\r\n",
        "from sklearn.metrics import accuracy_score"
      ],
      "execution_count": 99,
      "outputs": []
    },
    {
      "cell_type": "code",
      "metadata": {
        "id": "-yQEx9KMwvbn"
      },
      "source": [
        "url = 'https://archive.ics.uci.edu/ml/machine-learning-databases/spambase/spambase.data'"
      ],
      "execution_count": 89,
      "outputs": []
    },
    {
      "cell_type": "code",
      "metadata": {
        "id": "hBKUhCX7wvZH",
        "colab": {
          "base_uri": "https://localhost:8080/"
        },
        "outputId": "8cbe378e-0c9f-4aa8-9f00-3378aa5c0c29"
      },
      "source": [
        "import urllib.request\r\n",
        "\r\n",
        "raw_data = urllib.request.urlopen(url)\r\n",
        "dataset = np.loadtxt(raw_data, delimiter=',')\r\n",
        "print(dataset[0])"
      ],
      "execution_count": 94,
      "outputs": [
        {
          "output_type": "stream",
          "text": [
            "[  0.      0.64    0.64    0.      0.32    0.      0.      0.      0.\n",
            "   0.      0.      0.64    0.      0.      0.      0.32    0.      1.29\n",
            "   1.93    0.      0.96    0.      0.      0.      0.      0.      0.\n",
            "   0.      0.      0.      0.      0.      0.      0.      0.      0.\n",
            "   0.      0.      0.      0.      0.      0.      0.      0.      0.\n",
            "   0.      0.      0.      0.      0.      0.      0.778   0.      0.\n",
            "   3.756  61.    278.      1.   ]\n"
          ],
          "name": "stdout"
        }
      ]
    },
    {
      "cell_type": "code",
      "metadata": {
        "id": "gJB3GApDwvWn"
      },
      "source": [
        "X = dataset[:,0:48]\r\n",
        "\r\n",
        "y = dataset[:,-1]"
      ],
      "execution_count": 97,
      "outputs": []
    },
    {
      "cell_type": "code",
      "metadata": {
        "id": "hb5vaqRbwvUX"
      },
      "source": [
        "X_train, X_test, y_train, y_test = train_test_split(X,y, test_size=.2, random_state=17)"
      ],
      "execution_count": 98,
      "outputs": []
    },
    {
      "cell_type": "code",
      "metadata": {
        "colab": {
          "base_uri": "https://localhost:8080/"
        },
        "id": "hbv35-Hh-o2l",
        "outputId": "9bd4db33-38f2-434a-a7f1-d32784fe07d8"
      },
      "source": [
        "BernNB = BernoulliNB(binarize=True)\r\n",
        "BernNB.fit(X_train, y_train)\r\n",
        "print(BernNB)\r\n",
        "\r\n",
        "y_expect = y_test\r\n",
        "y_pred = BernNB.predict(X_test)\r\n",
        "\r\n",
        "print(accuracy_score(y_expect, y_pred))"
      ],
      "execution_count": 100,
      "outputs": [
        {
          "output_type": "stream",
          "text": [
            "BernoulliNB(alpha=1.0, binarize=True, class_prior=None, fit_prior=True)\n",
            "0.8577633007600435\n"
          ],
          "name": "stdout"
        }
      ]
    },
    {
      "cell_type": "code",
      "metadata": {
        "colab": {
          "base_uri": "https://localhost:8080/"
        },
        "id": "d0BLYr02_Nin",
        "outputId": "4327f8e1-36ba-41d8-bd3a-9e63dfff940c"
      },
      "source": [
        "MultiNB = MultinomialNB()\r\n",
        "MultiNB.fit(X_train, y_train)\r\n",
        "print(MultiNB)\r\n",
        "\r\n",
        "y_expect = y_test\r\n",
        "y_pred = MultiNB.predict(X_test)\r\n",
        "\r\n",
        "print(accuracy_score(y_expect, y_pred))"
      ],
      "execution_count": 102,
      "outputs": [
        {
          "output_type": "stream",
          "text": [
            "MultinomialNB(alpha=1.0, class_prior=None, fit_prior=True)\n",
            "0.8816503800217155\n"
          ],
          "name": "stdout"
        }
      ]
    },
    {
      "cell_type": "code",
      "metadata": {
        "colab": {
          "base_uri": "https://localhost:8080/"
        },
        "id": "EcknyKjW__Q6",
        "outputId": "089b070f-2f97-4d17-9d0b-7fbc1b047d28"
      },
      "source": [
        "GausNB = GaussianNB()\r\n",
        "GausNB.fit(X_train, y_train)\r\n",
        "print(GausNB)\r\n",
        "\r\n",
        "y_expect = y_test\r\n",
        "y_pred = GausNB.predict(X_test)\r\n",
        "\r\n",
        "print(accuracy_score(y_expect, y_pred))"
      ],
      "execution_count": 104,
      "outputs": [
        {
          "output_type": "stream",
          "text": [
            "GaussianNB(priors=None, var_smoothing=1e-09)\n",
            "0.8197611292073833\n"
          ],
          "name": "stdout"
        }
      ]
    },
    {
      "cell_type": "code",
      "metadata": {
        "id": "jgJCT9YK_2cH"
      },
      "source": [
        ""
      ],
      "execution_count": null,
      "outputs": []
    }
  ]
}